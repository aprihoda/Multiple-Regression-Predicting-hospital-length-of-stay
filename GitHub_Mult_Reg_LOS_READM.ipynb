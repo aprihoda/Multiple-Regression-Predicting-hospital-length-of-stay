{
 "cells": [
  {
   "cell_type": "code",
   "execution_count": 218,
   "metadata": {},
   "outputs": [],
   "source": [
    "#imports\n",
    "import pandas as pd\n",
    "import numpy as np\n",
    "import matplotlib.pyplot as plt\n",
    "import seaborn as sns\n",
    "import os"
   ]
  },
  {
   "cell_type": "code",
   "execution_count": 219,
   "metadata": {},
   "outputs": [],
   "source": [
    "#allows plots to appear directly in the notebook\n",
    "%matplotlib inline"
   ]
  },
  {
   "cell_type": "code",
   "execution_count": 220,
   "metadata": {},
   "outputs": [],
   "source": [
    "pd.set_option('display.max_rows', 500)\n",
    "pd.set_option('display.max_columns', 500)\n",
    "pd.set_option('display.width', 1000)"
   ]
  },
  {
   "cell_type": "code",
   "execution_count": null,
   "metadata": {},
   "outputs": [],
   "source": [
    "#this tutorial illustrates simple and multiple linear regression"
   ]
  },
  {
   "cell_type": "code",
   "execution_count": null,
   "metadata": {},
   "outputs": [],
   "source": [
    "#this tutorial illustrates how important linear relationships are\n",
    "#between response and predictor variables"
   ]
  },
  {
   "cell_type": "code",
   "execution_count": null,
   "metadata": {},
   "outputs": [],
   "source": [
    "#this tutorial illustrates how to use evaluation metrics\n",
    "#R-squared statistic\n",
    "#RMSE or root mean squared error\n",
    "#significance of predictor variables at p-value > .05\n",
    "#and how to compute equations of prediction"
   ]
  },
  {
   "cell_type": "code",
   "execution_count": null,
   "metadata": {},
   "outputs": [],
   "source": [
    "#upload data\n",
    "df = pd.read_csv(r\"C:\\Users\\Sierra\\Documents\\Preprocessed_LOS_READM.csv\")"
   ]
  },
  {
   "cell_type": "code",
   "execution_count": null,
   "metadata": {},
   "outputs": [],
   "source": [
    "#checking assumptions of linear regression\n",
    "#linear relationships between response and independent variables"
   ]
  },
  {
   "cell_type": "code",
   "execution_count": 265,
   "metadata": {},
   "outputs": [
    {
     "data": {
      "text/plain": [
       "<seaborn.axisgrid.PairGrid at 0x2956ef3df48>"
      ]
     },
     "execution_count": 265,
     "metadata": {},
     "output_type": "execute_result"
    },
    {
     "data": {
      "image/png": "[encoded data removed]",
      "text/plain": [
       "<Figure size 705.6x504 with 2 Axes>"
      ]
     },
     "metadata": {
      "needs_background": "light"
     },
     "output_type": "display_data"
    }
   ],
   "source": [
    "#scatterplots showing linear relationships\n",
    "sns.pairplot(df, x_vars=['ICU_DAYS','PatientAge',], y_vars='LENGTH_OF_STAY', size=7, aspect=0.7)"
   ]
  },
  {
   "cell_type": "code",
   "execution_count": 267,
   "metadata": {},
   "outputs": [],
   "source": [
    "#imports\n",
    "import statsmodels.formula.api as smf\n",
    "from sklearn.linear_model import LinearRegression\n",
    "from sklearn import metrics\n",
    "from sklearn.model_selection import train_test_split"
   ]
  },
  {
   "cell_type": "code",
   "execution_count": 375,
   "metadata": {},
   "outputs": [],
   "source": [
    "#simple linear regression model using statsmodels\n",
    "lm1 = smf.ols(formula='LENGTH_OF_STAY ~ ICU_DAYS', data=df).fit()"
   ]
  },
  {
   "cell_type": "code",
   "execution_count": 508,
   "metadata": {},
   "outputs": [
    {
     "data": {
      "text/plain": [
       "Intercept    2.486108\n",
       "ICU_DAYS     1.056764\n",
       "dtype: float64"
      ]
     },
     "execution_count": 508,
     "metadata": {},
     "output_type": "execute_result"
    }
   ],
   "source": [
    "#print intercept and coefficient\n",
    "#interpretation : a 1 unit increase in ICU_DAYS yields\n",
    "#a 1.05 unit increase in LENGTH_OF_STAY\n",
    "lm1.params"
   ]
  },
  {
   "cell_type": "code",
   "execution_count": 510,
   "metadata": {},
   "outputs": [
    {
     "data": {
      "text/plain": [
       "5.6564"
      ]
     },
     "execution_count": 510,
     "metadata": {},
     "output_type": "execute_result"
    }
   ],
   "source": [
    "#examine using the equation of prediction\n",
    "# LENGTH_OF_STAY = 2.486108 + 1.056764*ICU_DAYS\n",
    "#pretend a patient spent 3 days in ICU \n",
    "#yielding 5.6 days in LENGTH_OF_STAY (at hospital)\n",
    "2.486108 + 1.056764*3"
   ]
  },
  {
   "cell_type": "code",
   "execution_count": 377,
   "metadata": {},
   "outputs": [
    {
     "data": {
      "text/plain": [
       "Intercept    0.0\n",
       "ICU_DAYS     0.0\n",
       "dtype: float64"
      ]
     },
     "execution_count": 377,
     "metadata": {},
     "output_type": "execute_result"
    }
   ],
   "source": [
    "#print p-vale\n",
    "#interpretation : ICU_DAYS is significant \n",
    "#due to p-value < .05\n",
    "lm1.pvalues"
   ]
  },
  {
   "cell_type": "code",
   "execution_count": 378,
   "metadata": {},
   "outputs": [
    {
     "data": {
      "text/plain": [
       "0.9756795572632404"
      ]
     },
     "execution_count": 378,
     "metadata": {},
     "output_type": "execute_result"
    }
   ],
   "source": [
    "#print R-squared statistic\n",
    "#interpretation : 97.5% of data is explained by model\n",
    "lm1.rsquared"
   ]
  },
  {
   "cell_type": "code",
   "execution_count": 379,
   "metadata": {},
   "outputs": [
    {
     "data": {
      "text/html": [
       "<div>\n",
       "<style scoped>\n",
       "    .dataframe tbody tr th:only-of-type {\n",
       "        vertical-align: middle;\n",
       "    }\n",
       "\n",
       "    .dataframe tbody tr th {\n",
       "        vertical-align: top;\n",
       "    }\n",
       "\n",
       "    .dataframe thead th {\n",
       "        text-align: right;\n",
       "    }\n",
       "</style>\n",
       "<table border=\"1\" class=\"dataframe\">\n",
       "  <thead>\n",
       "    <tr style=\"text-align: right;\">\n",
       "      <th></th>\n",
       "      <th>0</th>\n",
       "      <th>1</th>\n",
       "    </tr>\n",
       "  </thead>\n",
       "  <tbody>\n",
       "    <tr>\n",
       "      <td>Intercept</td>\n",
       "      <td>2.482054</td>\n",
       "      <td>2.490161</td>\n",
       "    </tr>\n",
       "    <tr>\n",
       "      <td>ICU_DAYS</td>\n",
       "      <td>1.055909</td>\n",
       "      <td>1.057619</td>\n",
       "    </tr>\n",
       "  </tbody>\n",
       "</table>\n",
       "</div>"
      ],
      "text/plain": [
       "                  0         1\n",
       "Intercept  2.482054  2.490161\n",
       "ICU_DAYS   1.055909  1.057619"
      ]
     },
     "execution_count": 379,
     "metadata": {},
     "output_type": "execute_result"
    }
   ],
   "source": [
    "#print the confidence interval\n",
    "#interpretation : the range of plausible values is\n",
    "#between 1.055909 and 1.057619\n",
    "lm1.conf_int()"
   ]
  },
  {
   "cell_type": "code",
   "execution_count": 380,
   "metadata": {},
   "outputs": [
    {
     "data": {
      "text/html": [
       "<table class=\"simpletable\">\n",
       "<caption>OLS Regression Results</caption>\n",
       "<tr>\n",
       "  <th>Dep. Variable:</th>     <td>LENGTH_OF_STAY</td>  <th>  R-squared:         </th>  <td>   0.976</td>  \n",
       "</tr>\n",
       "<tr>\n",
       "  <th>Model:</th>                   <td>OLS</td>       <th>  Adj. R-squared:    </th>  <td>   0.976</td>  \n",
       "</tr>\n",
       "<tr>\n",
       "  <th>Method:</th>             <td>Least Squares</td>  <th>  F-statistic:       </th>  <td>5.866e+06</td> \n",
       "</tr>\n",
       "<tr>\n",
       "  <th>Date:</th>             <td>Tue, 31 Mar 2020</td> <th>  Prob (F-statistic):</th>   <td>  0.00</td>   \n",
       "</tr>\n",
       "<tr>\n",
       "  <th>Time:</th>                 <td>14:30:40</td>     <th>  Log-Likelihood:    </th> <td>-1.4219e+05</td>\n",
       "</tr>\n",
       "<tr>\n",
       "  <th>No. Observations:</th>      <td>146220</td>      <th>  AIC:               </th>  <td>2.844e+05</td> \n",
       "</tr>\n",
       "<tr>\n",
       "  <th>Df Residuals:</th>          <td>146218</td>      <th>  BIC:               </th>  <td>2.844e+05</td> \n",
       "</tr>\n",
       "<tr>\n",
       "  <th>Df Model:</th>              <td>     1</td>      <th>                     </th>      <td> </td>     \n",
       "</tr>\n",
       "<tr>\n",
       "  <th>Covariance Type:</th>      <td>nonrobust</td>    <th>                     </th>      <td> </td>     \n",
       "</tr>\n",
       "</table>\n",
       "<table class=\"simpletable\">\n",
       "<tr>\n",
       "      <td></td>         <th>coef</th>     <th>std err</th>      <th>t</th>      <th>P>|t|</th>  <th>[0.025</th>    <th>0.975]</th>  \n",
       "</tr>\n",
       "<tr>\n",
       "  <th>Intercept</th> <td>    2.4861</td> <td>    0.002</td> <td> 1202.036</td> <td> 0.000</td> <td>    2.482</td> <td>    2.490</td>\n",
       "</tr>\n",
       "<tr>\n",
       "  <th>ICU_DAYS</th>  <td>    1.0568</td> <td>    0.000</td> <td> 2421.967</td> <td> 0.000</td> <td>    1.056</td> <td>    1.058</td>\n",
       "</tr>\n",
       "</table>\n",
       "<table class=\"simpletable\">\n",
       "<tr>\n",
       "  <th>Omnibus:</th>       <td>19132.683</td> <th>  Durbin-Watson:     </th>  <td>   1.453</td> \n",
       "</tr>\n",
       "<tr>\n",
       "  <th>Prob(Omnibus):</th>  <td> 0.000</td>   <th>  Jarque-Bera (JB):  </th> <td>191146.984</td>\n",
       "</tr>\n",
       "<tr>\n",
       "  <th>Skew:</th>           <td> 0.273</td>   <th>  Prob(JB):          </th>  <td>    0.00</td> \n",
       "</tr>\n",
       "<tr>\n",
       "  <th>Kurtosis:</th>       <td> 8.575</td>   <th>  Cond. No.          </th>  <td>    5.95</td> \n",
       "</tr>\n",
       "</table><br/><br/>Warnings:<br/>[1] Standard Errors assume that the covariance matrix of the errors is correctly specified."
      ],
      "text/plain": [
       "<class 'statsmodels.iolib.summary.Summary'>\n",
       "\"\"\"\n",
       "                            OLS Regression Results                            \n",
       "==============================================================================\n",
       "Dep. Variable:         LENGTH_OF_STAY   R-squared:                       0.976\n",
       "Model:                            OLS   Adj. R-squared:                  0.976\n",
       "Method:                 Least Squares   F-statistic:                 5.866e+06\n",
       "Date:                Tue, 31 Mar 2020   Prob (F-statistic):               0.00\n",
       "Time:                        14:30:40   Log-Likelihood:            -1.4219e+05\n",
       "No. Observations:              146220   AIC:                         2.844e+05\n",
       "Df Residuals:                  146218   BIC:                         2.844e+05\n",
       "Df Model:                           1                                         \n",
       "Covariance Type:            nonrobust                                         \n",
       "==============================================================================\n",
       "                 coef    std err          t      P>|t|      [0.025      0.975]\n",
       "------------------------------------------------------------------------------\n",
       "Intercept      2.4861      0.002   1202.036      0.000       2.482       2.490\n",
       "ICU_DAYS       1.0568      0.000   2421.967      0.000       1.056       1.058\n",
       "==============================================================================\n",
       "Omnibus:                    19132.683   Durbin-Watson:                   1.453\n",
       "Prob(Omnibus):                  0.000   Jarque-Bera (JB):           191146.984\n",
       "Skew:                           0.273   Prob(JB):                         0.00\n",
       "Kurtosis:                       8.575   Cond. No.                         5.95\n",
       "==============================================================================\n",
       "\n",
       "Warnings:\n",
       "[1] Standard Errors assume that the covariance matrix of the errors is correctly specified.\n",
       "\"\"\""
      ]
     },
     "execution_count": 380,
     "metadata": {},
     "output_type": "execute_result"
    }
   ],
   "source": [
    "#observe the same values in the summary below\n",
    "#observe p-values, confidence intervals, intercept, and coefficients\n",
    "lm1.summary()"
   ]
  },
  {
   "cell_type": "code",
   "execution_count": null,
   "metadata": {},
   "outputs": [],
   "source": []
  },
  {
   "cell_type": "code",
   "execution_count": null,
   "metadata": {},
   "outputs": [],
   "source": []
  },
  {
   "cell_type": "code",
   "execution_count": 381,
   "metadata": {},
   "outputs": [],
   "source": [
    "#the same simple linear regression model using scikit-learn\n",
    "#continuous response variable\n",
    "y2 = df['LENGTH_OF_STAY']"
   ]
  },
  {
   "cell_type": "code",
   "execution_count": 382,
   "metadata": {},
   "outputs": [],
   "source": [
    "#independent variable\n",
    "feature_col = ['ICU_DAYS']\n",
    "X2 = df[feature_col]"
   ]
  },
  {
   "cell_type": "code",
   "execution_count": 383,
   "metadata": {},
   "outputs": [
    {
     "data": {
      "text/plain": [
       "LinearRegression(copy_X=True, fit_intercept=True, n_jobs=None, normalize=False)"
      ]
     },
     "execution_count": 383,
     "metadata": {},
     "output_type": "execute_result"
    }
   ],
   "source": [
    "#model\n",
    "lm2 = LinearRegression()\n",
    "lm2.fit(X2, y2)"
   ]
  },
  {
   "cell_type": "code",
   "execution_count": 384,
   "metadata": {},
   "outputs": [
    {
     "name": "stdout",
     "output_type": "stream",
     "text": [
      "2.4861076577704315\n",
      "[1.0567638]\n"
     ]
    }
   ],
   "source": [
    "#print coefficients\n",
    "#notice this doesn't show the names\n",
    "print(lm2.intercept_)\n",
    "print(lm2.coef_)"
   ]
  },
  {
   "cell_type": "code",
   "execution_count": 385,
   "metadata": {},
   "outputs": [
    {
     "data": {
      "text/plain": [
       "[('ICU_DAYS', 1.0567638041670226)]"
      ]
     },
     "execution_count": 385,
     "metadata": {},
     "output_type": "execute_result"
    }
   ],
   "source": [
    "#pair feature name with its coefficient\n",
    "#interpretation : 1 day in ICU yields 1.05 days in hospital \n",
    "list(zip(feature_col, lm2.coef_))"
   ]
  },
  {
   "cell_type": "code",
   "execution_count": null,
   "metadata": {},
   "outputs": [],
   "source": [
    "#equation of prediction\n",
    "LENGTH_OF_STAY = 2.48610 + 1.05676*ICU_DAYS"
   ]
  },
  {
   "cell_type": "code",
   "execution_count": 386,
   "metadata": {},
   "outputs": [
    {
     "data": {
      "text/plain": [
       "0.9756795572632404"
      ]
     },
     "execution_count": 386,
     "metadata": {},
     "output_type": "execute_result"
    }
   ],
   "source": [
    "#print R-squared for the model\n",
    "#interpretation : 97.5% of data is explained by model\n",
    "lm2.score(X2, y2)"
   ]
  },
  {
   "cell_type": "code",
   "execution_count": null,
   "metadata": {},
   "outputs": [],
   "source": []
  },
  {
   "cell_type": "code",
   "execution_count": null,
   "metadata": {},
   "outputs": [],
   "source": []
  },
  {
   "cell_type": "code",
   "execution_count": 448,
   "metadata": {},
   "outputs": [],
   "source": [
    "#create a multiple regression model with statsmodels\n",
    "#continuous response variable\n",
    "y3 = df['LENGTH_OF_STAY']"
   ]
  },
  {
   "cell_type": "code",
   "execution_count": 449,
   "metadata": {},
   "outputs": [],
   "source": [
    "#all columns except response\n",
    "X31 = df.drop('LENGTH_OF_STAY', axis=1)"
   ]
  },
  {
   "cell_type": "code",
   "execution_count": 450,
   "metadata": {},
   "outputs": [
    {
     "name": "stderr",
     "output_type": "stream",
     "text": [
      "C:\\Users\\Sierra\\Anaconda3\\lib\\site-packages\\numpy\\core\\fromnumeric.py:2389: FutureWarning: Method .ptp is deprecated and will be removed in a future version. Use numpy.ptp instead.\n",
      "  return ptp(axis=axis, out=out, **kwargs)\n"
     ]
    }
   ],
   "source": [
    "#prep independent variables for model\n",
    "X32 = sm.add_constant(X31)"
   ]
  },
  {
   "cell_type": "code",
   "execution_count": 451,
   "metadata": {},
   "outputs": [],
   "source": [
    "#model\n",
    "lm3 = sm.OLS(y3, X32).fit()"
   ]
  },
  {
   "cell_type": "code",
   "execution_count": 452,
   "metadata": {},
   "outputs": [
    {
     "data": {
      "text/plain": [
       "0.9778614856897111"
      ]
     },
     "execution_count": 452,
     "metadata": {},
     "output_type": "execute_result"
    }
   ],
   "source": [
    "#print R-squared statistic\n",
    "#interpretation : 97.79% of data explained by model\n",
    "lm3.rsquared"
   ]
  },
  {
   "cell_type": "code",
   "execution_count": 453,
   "metadata": {},
   "outputs": [
    {
     "name": "stdout",
     "output_type": "stream",
     "text": [
      "                            OLS Regression Results                            \n",
      "==============================================================================\n",
      "Dep. Variable:         LENGTH_OF_STAY   R-squared:                       0.978\n",
      "Model:                            OLS   Adj. R-squared:                  0.978\n",
      "Method:                 Least Squares   F-statistic:                 1.196e+05\n",
      "Date:                Tue, 31 Mar 2020   Prob (F-statistic):               0.00\n",
      "Time:                        15:55:57   Log-Likelihood:            -1.3532e+05\n",
      "No. Observations:              146220   AIC:                         2.707e+05\n",
      "Df Residuals:                  146165   BIC:                         2.713e+05\n",
      "Df Model:                          54                                         \n",
      "Covariance Type:            nonrobust                                         \n",
      "==================================================================================================\n",
      "                                     coef    std err          t      P>|t|      [0.025      0.975]\n",
      "--------------------------------------------------------------------------------------------------\n",
      "const                              1.6616      0.056     29.896      0.000       1.553       1.771\n",
      "PatientAge                         0.0011      0.000      9.111      0.000       0.001       0.001\n",
      "DRG_APR_SEVERITY                   0.0653      0.002     27.162      0.000       0.061       0.070\n",
      "ICU_DAYS                           1.0510      0.000   2345.762      0.000       1.050       1.052\n",
      "op_visits6                        -0.0066      0.001    -12.037      0.000      -0.008      -0.005\n",
      "Num_Chronic_Cond                  -0.0028      0.002     -1.616      0.106      -0.006       0.001\n",
      "order_set_used                    -0.0560      0.002    -27.276      0.000      -0.060      -0.052\n",
      "operationcount                     0.0218      0.002     10.909      0.000       0.018       0.026\n",
      "M                                  0.0026      0.003      0.810      0.418      -0.004       0.009\n",
      "Others                             0.0297      0.009      3.360      0.001       0.012       0.047\n",
      "White                             -0.0394      0.006     -7.098      0.000      -0.050      -0.029\n",
      "INCISION, EXCISION, AND            0.4582      0.051      8.943      0.000       0.358       0.559\n",
      "INTERVIEW, EVALUATION, C           0.4845      0.053      9.212      0.000       0.381       0.588\n",
      "NONOPERATIVE INTUBATION            0.3495      0.052      6.764      0.000       0.248       0.451\n",
      "NUCLEAR MEDICINE                   0.3090      0.055      5.579      0.000       0.200       0.418\n",
      "No Procedure                       0.3968      0.051      7.768      0.000       0.297       0.497\n",
      "OPERATIONS ON ANUS                 2.7404      0.081     34.032      0.000       2.583       2.898\n",
      "OPERATIONS ON BONE MARRO           0.0774      0.063      1.238      0.216      -0.045       0.200\n",
      "OPERATIONS ON CHEST WALL           0.3404      0.052      6.489      0.000       0.238       0.443\n",
      "OPERATIONS ON LIVER                0.8941      0.081     11.005      0.000       0.735       1.053\n",
      "OPERATIONS ON LYMPHATIC           -0.1771      0.080     -2.200      0.028      -0.335      -0.019\n",
      "OPERATIONS ON NOSE                 0.3869      0.067      5.739      0.000       0.255       0.519\n",
      "OPERATIONS ON RECTUM REC           0.7620      0.081      9.460      0.000       0.604       0.920\n",
      "OPERATIONS ON SKIN AND S           0.6830      0.063     10.926      0.000       0.560       0.805\n",
      "OPERATIONS ON SPINAL COR           0.3487      0.057      6.118      0.000       0.237       0.460\n",
      "OTHER DIAGNOSTIC RADIOLO           0.5342      0.051     10.460      0.000       0.434       0.634\n",
      "OTHER NONOPERATIVE PROCE           0.4473      0.051      8.734      0.000       0.347       0.548\n",
      "OTHER OPERATIONS ON ABDO           0.8396      0.062     13.466      0.000       0.717       0.962\n",
      "OTHER OPERATIONS ON HEAR           0.1633      0.055      2.957      0.003       0.055       0.272\n",
      "OTHER OPERATIONS ON LARY           0.2330      0.061      3.830      0.000       0.114       0.352\n",
      "OTHER OPERATIONS ON LUNG           0.3412      0.052      6.582      0.000       0.240       0.443\n",
      "OTHER OPERATIONS ON TEET           0.3933      0.081      4.877      0.000       0.235       0.551\n",
      "OTHER OPERATIONS ON VESS           0.2624      0.052      5.082      0.000       0.161       0.364\n",
      "PROCEDURES AND INTERVENT           0.2008      0.068      2.958      0.003       0.068       0.334\n",
      "PROCEDURES RELATED TO TH           1.0606      0.060     17.685      0.000       0.943       1.178\n",
      "REPAIR AND PLASTIC OPERA           0.7451      0.068     10.973      0.000       0.612       0.878\n",
      "REPLACEMENT AND REMOVAL            0.7225      0.080      9.009      0.000       0.565       0.880\n",
      "Y                                 -0.0560      0.002    -27.276      0.000      -0.060      -0.052\n",
      "2                                 -0.1367      0.007    -19.917      0.000      -0.150      -0.123\n",
      "3                                  0.0033      0.007      0.472      0.637      -0.010       0.017\n",
      "4                                 -0.1862      0.007    -25.656      0.000      -0.200      -0.172\n",
      "5                                 -0.0363      0.007     -5.385      0.000      -0.050      -0.023\n",
      "6                                 -0.2381      0.007    -32.204      0.000      -0.253      -0.224\n",
      "7                                 -0.4408      0.010    -44.542      0.000      -0.460      -0.421\n",
      "8                                 -0.1996      0.009    -21.304      0.000      -0.218      -0.181\n",
      "9                                 -0.1049      0.009    -11.501      0.000      -0.123      -0.087\n",
      "10                                -0.1066      0.007    -14.413      0.000      -0.121      -0.092\n",
      "11                                -0.1455      0.007    -19.912      0.000      -0.160      -0.131\n",
      "12                                -0.0838      0.007    -11.483      0.000      -0.098      -0.070\n",
      "Hilding-Long Memorial Hospital     0.4364      0.017     25.481      0.000       0.403       0.470\n",
      "Independence Medical Center        0.2901      0.018     15.790      0.000       0.254       0.326\n",
      "Mercy Hospital                     0.4091      0.017     24.305      0.000       0.376       0.442\n",
      "Oxbow Regional Hospital            0.4402      0.018     24.822      0.000       0.405       0.475\n",
      "St. Anthony Medical Center         0.4027      0.017     24.195      0.000       0.370       0.435\n",
      "Superior-Parkland Hospital         0.0026      0.019      0.138      0.890      -0.034       0.039\n",
      "Valley City Regional Hospital      0.0266      0.020      1.298      0.194      -0.014       0.067\n",
      "==============================================================================\n",
      "Omnibus:                    21376.252   Durbin-Watson:                   1.488\n",
      "Prob(Omnibus):                  0.000   Jarque-Bera (JB):           229710.945\n",
      "Skew:                           0.351   Prob(JB):                         0.00\n",
      "Kurtosis:                       9.100   Cond. No.                     1.02e+16\n",
      "==============================================================================\n",
      "\n",
      "Warnings:\n",
      "[1] Standard Errors assume that the covariance matrix of the errors is correctly specified.\n",
      "[2] The smallest eigenvalue is 8.13e-24. This might indicate that there are\n",
      "strong multicollinearity problems or that the design matrix is singular.\n"
     ]
    }
   ],
   "source": [
    "#print summary results\n",
    "#observe p-values, confidence intervals, intercept, and coefficients\n",
    "print (lm3.summary())"
   ]
  },
  {
   "cell_type": "code",
   "execution_count": null,
   "metadata": {},
   "outputs": [],
   "source": [
    "#equation of prediction\n",
    "#I will put ... for all other variables\n",
    "#interpretation : 1 yr of PatientAge yields .0011 days in hospital \n",
    "#being a patient at Valley City Reg Hosp yileds .0266 days in hospital\n",
    "LENGTH_OF_STAY = 1.6616 + 0.0011*PatientAge ...\n",
    "...+ 0.0266*Valley City Regional Hospital"
   ]
  },
  {
   "cell_type": "code",
   "execution_count": null,
   "metadata": {},
   "outputs": [],
   "source": []
  },
  {
   "cell_type": "code",
   "execution_count": null,
   "metadata": {},
   "outputs": [],
   "source": []
  },
  {
   "cell_type": "code",
   "execution_count": 454,
   "metadata": {},
   "outputs": [],
   "source": [
    "#create a multiple regression model with scikit-learn\n",
    "#continuous response variable\n",
    "y4 = df['LENGTH_OF_STAY']"
   ]
  },
  {
   "cell_type": "code",
   "execution_count": 455,
   "metadata": {},
   "outputs": [],
   "source": [
    "#all columns except response\n",
    "X4 = df.drop('LENGTH_OF_STAY', axis=1)"
   ]
  },
  {
   "cell_type": "code",
   "execution_count": 456,
   "metadata": {},
   "outputs": [
    {
     "data": {
      "text/plain": [
       "Index([                    'PatientAge',               'DRG_APR_SEVERITY',                       'ICU_DAYS',                     'op_visits6',               'Num_Chronic_Cond',                 'order_set_used',                 'operationcount',                              'M',                         'Others',                          'White',        'INCISION, EXCISION, AND',       'INTERVIEW, EVALUATION, C',        'NONOPERATIVE INTUBATION',               'NUCLEAR MEDICINE',                   'No Procedure',             'OPERATIONS ON ANUS',       'OPERATIONS ON BONE MARRO',       'OPERATIONS ON CHEST WALL',            'OPERATIONS ON LIVER',        'OPERATIONS ON LYMPHATIC',             'OPERATIONS ON NOSE',       'OPERATIONS ON RECTUM REC',       'OPERATIONS ON SKIN AND S',       'OPERATIONS ON SPINAL COR',       'OTHER DIAGNOSTIC RADIOLO',       'OTHER NONOPERATIVE PROCE',       'OTHER OPERATIONS ON ABDO',       'OTHER OPERATIONS ON HEAR',       'OTHER OPERATIONS ON LARY',\n",
       "             'OTHER OPERATIONS ON LUNG',       'OTHER OPERATIONS ON TEET',       'OTHER OPERATIONS ON VESS',       'PROCEDURES AND INTERVENT',       'PROCEDURES RELATED TO TH',       'REPAIR AND PLASTIC OPERA',        'REPLACEMENT AND REMOVAL',                              'Y',                                2,                                3,                                4,                                5,                                6,                                7,                                8,                                9,                               10,                               11,                               12, 'Hilding-Long Memorial Hospital',    'Independence Medical Center',                 'Mercy Hospital',        'Oxbow Regional Hospital',     'St. Anthony Medical Center',     'Superior-Parkland Hospital',  'Valley City Regional Hospital'],\n",
       "      dtype='object')"
      ]
     },
     "execution_count": 456,
     "metadata": {},
     "output_type": "execute_result"
    }
   ],
   "source": [
    "# call columns to copy and paste below\n",
    "X4.columns"
   ]
  },
  {
   "cell_type": "code",
   "execution_count": 511,
   "metadata": {},
   "outputs": [],
   "source": [
    "#create feature_cols\n",
    "feature_cols = ['PatientAge','DRG_APR_SEVERITY','ICU_DAYS','op_visits6','Num_Chronic_Cond','order_set_used','operationcount','M','Others','White','INCISION, EXCISION, AND','INTERVIEW, EVALUATION, C','NONOPERATIVE INTUBATION','NUCLEAR MEDICINE','No Procedure','OPERATIONS ON ANUS','OPERATIONS ON BONE MARRO','OPERATIONS ON CHEST WALL','OPERATIONS ON LIVER','OPERATIONS ON LYMPHATIC','OPERATIONS ON NOSE','OPERATIONS ON RECTUM REC','OPERATIONS ON SKIN AND S','OPERATIONS ON SPINAL COR','OTHER DIAGNOSTIC RADIOLO','OTHER NONOPERATIVE PROCE','OTHER OPERATIONS ON ABDO','OTHER OPERATIONS ON HEAR','OTHER OPERATIONS ON LARY','OTHER OPERATIONS ON LUNG','OTHER OPERATIONS ON TEET','OTHER OPERATIONS ON VESS','PROCEDURES AND INTERVENT','PROCEDURES RELATED TO TH','REPAIR AND PLASTIC OPERA','REPLACEMENT AND REMOVAL','Y',2,3,4,5,6,7,8,9,10,11,12,'Hilding-Long Memorial Hospital','Independence Medical Center','Mercy Hospital','Oxbow Regional Hospital','St. Anthony Medical Center','Superior-Parkland Hospital','Valley City Regional Hospital']"
   ]
  },
  {
   "cell_type": "code",
   "execution_count": 458,
   "metadata": {},
   "outputs": [
    {
     "data": {
      "text/plain": [
       "LinearRegression(copy_X=True, fit_intercept=True, n_jobs=None, normalize=False)"
      ]
     },
     "execution_count": 458,
     "metadata": {},
     "output_type": "execute_result"
    }
   ],
   "source": [
    "#model\n",
    "lm4 = LinearRegression()\n",
    "lm4.fit(X4, y4)"
   ]
  },
  {
   "cell_type": "code",
   "execution_count": 459,
   "metadata": {},
   "outputs": [
    {
     "data": {
      "text/plain": [
       "[('PatientAge', 0.0011202790175937683),\n",
       " ('DRG_APR_SEVERITY', 0.06530496535264713),\n",
       " ('ICU_DAYS', 1.0509663330226804),\n",
       " ('op_visits6', -0.0065531516747128205),\n",
       " ('Num_Chronic_Cond', -0.002829087488255647),\n",
       " ('order_set_used', -0.05596281354744988),\n",
       " ('operationcount', 0.02177929025593297),\n",
       " ('M', 0.002644775060758664),\n",
       " ('Others', 0.02966495622679015),\n",
       " ('White', -0.039399459232297845),\n",
       " ('INCISION, EXCISION, AND', 0.4581684216678441),\n",
       " ('INTERVIEW, EVALUATION, C', 0.4845342607083353),\n",
       " ('NONOPERATIVE INTUBATION', 0.34948081053485086),\n",
       " ('NUCLEAR MEDICINE', 0.3090403029411619),\n",
       " ('No Procedure', 0.3968251669194792),\n",
       " ('OPERATIONS ON ANUS', 2.7403741981257657),\n",
       " ('OPERATIONS ON BONE MARRO', 0.07737580780533401),\n",
       " ('OPERATIONS ON CHEST WALL', 0.340379052141479),\n",
       " ('OPERATIONS ON LIVER', 0.8940846925303507),\n",
       " ('OPERATIONS ON LYMPHATIC', -0.1771032398072039),\n",
       " ('OPERATIONS ON NOSE', 0.3869023742382279),\n",
       " ('OPERATIONS ON RECTUM REC', 0.7620231731280757),\n",
       " ('OPERATIONS ON SKIN AND S', 0.6829701310890366),\n",
       " ('OPERATIONS ON SPINAL COR', 0.34871526930953517),\n",
       " ('OTHER DIAGNOSTIC RADIOLO', 0.534212010426359),\n",
       " ('OTHER NONOPERATIVE PROCE', 0.44730430703697516),\n",
       " ('OTHER OPERATIONS ON ABDO', 0.8395818605361715),\n",
       " ('OTHER OPERATIONS ON HEAR', 0.163309961610277),\n",
       " ('OTHER OPERATIONS ON LARY', 0.2330473990494996),\n",
       " ('OTHER OPERATIONS ON LUNG', 0.3412080518454316),\n",
       " ('OTHER OPERATIONS ON TEET', 0.3933386951194127),\n",
       " ('OTHER OPERATIONS ON VESS', 0.2624322466006612),\n",
       " ('PROCEDURES AND INTERVENT', 0.20078352169921573),\n",
       " ('PROCEDURES RELATED TO TH', 1.0606110928954313),\n",
       " ('REPAIR AND PLASTIC OPERA', 0.7450711334403537),\n",
       " ('REPLACEMENT AND REMOVAL', 0.7225165213346185),\n",
       " ('Y', -0.05596281354745099),\n",
       " (2, -0.1366906400655454),\n",
       " (3, 0.0033016234473218636),\n",
       " (4, -0.18617555151855814),\n",
       " (5, -0.03634915232339908),\n",
       " (6, -0.23812040065865958),\n",
       " (7, -0.4408059592379471),\n",
       " (8, -0.19957970702864652),\n",
       " (9, -0.10487004275734566),\n",
       " (10, -0.10660833694791272),\n",
       " (11, -0.14549417007439183),\n",
       " (12, -0.0838293342349644),\n",
       " ('Hilding-Long Memorial Hospital', 0.43643118086842947),\n",
       " ('Independence Medical Center', 0.29012949506227936),\n",
       " ('Mercy Hospital', 0.4090604814290902),\n",
       " ('Oxbow Regional Hospital', 0.44017378086630476),\n",
       " ('St. Anthony Medical Center', 0.4026830869412419),\n",
       " ('Superior-Parkland Hospital', 0.0025695485241211177),\n",
       " ('Valley City Regional Hospital', 0.026585529387138106)]"
      ]
     },
     "execution_count": 459,
     "metadata": {},
     "output_type": "execute_result"
    }
   ],
   "source": [
    "#print coefficients paired with feature names\n",
    "list(zip(feature_cols, lm4.coef_))"
   ]
  },
  {
   "cell_type": "code",
   "execution_count": 512,
   "metadata": {},
   "outputs": [
    {
     "name": "stdout",
     "output_type": "stream",
     "text": [
      "1.6615719530437971\n"
     ]
    }
   ],
   "source": [
    "#print intercept\n",
    "print(lm4.intercept_)"
   ]
  },
  {
   "cell_type": "code",
   "execution_count": null,
   "metadata": {},
   "outputs": [],
   "source": [
    "#equation of prediction\n",
    "#I will put ... for all other variables\n",
    "#interpretation : 1 yr of PatientAge yields .00112 days in hospital \n",
    "#being a patient at Valley City Reg Hosp yileds .02658 days in hospital\n",
    "LENGTH_OF_STAY = 1.66157 + 0.00112*PatientAge ...\n",
    "...+ 0.02658*Valley City Regional Hospital"
   ]
  },
  {
   "cell_type": "code",
   "execution_count": 460,
   "metadata": {},
   "outputs": [
    {
     "data": {
      "text/plain": [
       "0.9778614856897111"
      ]
     },
     "execution_count": 460,
     "metadata": {},
     "output_type": "execute_result"
    }
   ],
   "source": [
    "#print R-squared for the model\n",
    "lm4.score(X4, y4)"
   ]
  },
  {
   "cell_type": "code",
   "execution_count": null,
   "metadata": {},
   "outputs": [],
   "source": []
  },
  {
   "cell_type": "code",
   "execution_count": null,
   "metadata": {},
   "outputs": [],
   "source": []
  },
  {
   "cell_type": "code",
   "execution_count": 461,
   "metadata": {},
   "outputs": [],
   "source": [
    "#fine tuning the multiple regression model with feature selection\n",
    "#eliminate insignificant variables with p-value > .05\n",
    "#using statsmodels"
   ]
  },
  {
   "cell_type": "code",
   "execution_count": 462,
   "metadata": {},
   "outputs": [],
   "source": [
    "#response variable\n",
    "y5 = df['LENGTH_OF_STAY']"
   ]
  },
  {
   "cell_type": "code",
   "execution_count": 463,
   "metadata": {},
   "outputs": [],
   "source": [
    "#all columns except response and insignificant predictors\n",
    "X51 = df.drop(['LENGTH_OF_STAY','Num_Chronic_Cond','M','OPERATIONS ON BONE MARRO',3,'Superior-Parkland Hospital','Valley City Regional Hospital'], axis=1)"
   ]
  },
  {
   "cell_type": "code",
   "execution_count": 464,
   "metadata": {},
   "outputs": [
    {
     "name": "stderr",
     "output_type": "stream",
     "text": [
      "C:\\Users\\Sierra\\Anaconda3\\lib\\site-packages\\numpy\\core\\fromnumeric.py:2389: FutureWarning: Method .ptp is deprecated and will be removed in a future version. Use numpy.ptp instead.\n",
      "  return ptp(axis=axis, out=out, **kwargs)\n"
     ]
    }
   ],
   "source": [
    "#prep independent variables for model\n",
    "X52 = sm.add_constant(X51)"
   ]
  },
  {
   "cell_type": "code",
   "execution_count": 465,
   "metadata": {},
   "outputs": [],
   "source": [
    "#model\n",
    "lm5 = sm.OLS(y5, X52).fit()"
   ]
  },
  {
   "cell_type": "code",
   "execution_count": 517,
   "metadata": {},
   "outputs": [
    {
     "data": {
      "text/plain": [
       "0.9778603641970607"
      ]
     },
     "execution_count": 517,
     "metadata": {},
     "output_type": "execute_result"
    }
   ],
   "source": [
    "#print R-squared statistic\n",
    "#notice the R-suared statistic by even 1/100th of 1%\n",
    "lm5.rsquared"
   ]
  },
  {
   "cell_type": "code",
   "execution_count": 467,
   "metadata": {},
   "outputs": [
    {
     "name": "stdout",
     "output_type": "stream",
     "text": [
      "                            OLS Regression Results                            \n",
      "==============================================================================\n",
      "Dep. Variable:         LENGTH_OF_STAY   R-squared:                       0.978\n",
      "Model:                            OLS   Adj. R-squared:                  0.978\n",
      "Method:                 Least Squares   F-statistic:                 1.345e+05\n",
      "Date:                Tue, 31 Mar 2020   Prob (F-statistic):               0.00\n",
      "Time:                        15:56:06   Log-Likelihood:            -1.3532e+05\n",
      "No. Observations:              146220   AIC:                         2.707e+05\n",
      "Df Residuals:                  146171   BIC:                         2.712e+05\n",
      "Df Model:                          48                                         \n",
      "Covariance Type:            nonrobust                                         \n",
      "==================================================================================================\n",
      "                                     coef    std err          t      P>|t|      [0.025      0.975]\n",
      "--------------------------------------------------------------------------------------------------\n",
      "const                              1.7227      0.033     51.963      0.000       1.658       1.788\n",
      "PatientAge                         0.0011      0.000      9.115      0.000       0.001       0.001\n",
      "DRG_APR_SEVERITY                   0.0654      0.002     27.245      0.000       0.061       0.070\n",
      "ICU_DAYS                           1.0510      0.000   2354.989      0.000       1.050       1.052\n",
      "op_visits6                        -0.0066      0.001    -12.136      0.000      -0.008      -0.006\n",
      "order_set_used                    -0.0561      0.002    -27.412      0.000      -0.060      -0.052\n",
      "operationcount                     0.0219      0.002     10.960      0.000       0.018       0.026\n",
      "Others                             0.0304      0.009      3.448      0.001       0.013       0.048\n",
      "White                             -0.0394      0.006     -7.113      0.000      -0.050      -0.029\n",
      "INCISION, EXCISION, AND            0.4069      0.030     13.557      0.000       0.348       0.466\n",
      "INTERVIEW, EVALUATION, C           0.4324      0.032     13.462      0.000       0.369       0.495\n",
      "NONOPERATIVE INTUBATION            0.2974      0.031      9.679      0.000       0.237       0.358\n",
      "NUCLEAR MEDICINE                   0.2574      0.037      7.049      0.000       0.186       0.329\n",
      "No Procedure                       0.3448      0.030     11.636      0.000       0.287       0.403\n",
      "OPERATIONS ON ANUS                 2.6885      0.069     38.737      0.000       2.552       2.825\n",
      "OPERATIONS ON CHEST WALL           0.2892      0.032      9.046      0.000       0.227       0.352\n",
      "OPERATIONS ON LIVER                0.8424      0.070     12.075      0.000       0.706       0.979\n",
      "OPERATIONS ON LYMPHATIC           -0.2260      0.069     -3.280      0.001      -0.361      -0.091\n",
      "OPERATIONS ON NOSE                 0.3346      0.053      6.326      0.000       0.231       0.438\n",
      "OPERATIONS ON RECTUM REC           0.7111      0.069     10.338      0.000       0.576       0.846\n",
      "OPERATIONS ON SKIN AND S           0.6313      0.047     13.505      0.000       0.540       0.723\n",
      "OPERATIONS ON SPINAL COR           0.2955      0.039      7.579      0.000       0.219       0.372\n",
      "OTHER DIAGNOSTIC RADIOLO           0.4824      0.030     16.283      0.000       0.424       0.540\n",
      "OTHER NONOPERATIVE PROCE           0.3956      0.030     13.239      0.000       0.337       0.454\n",
      "OTHER OPERATIONS ON ABDO           0.7865      0.046     16.929      0.000       0.695       0.878\n",
      "OTHER OPERATIONS ON HEAR           0.1116      0.036      3.066      0.002       0.040       0.183\n",
      "OTHER OPERATIONS ON LARY           0.1816      0.045      4.081      0.000       0.094       0.269\n",
      "OTHER OPERATIONS ON LUNG           0.2897      0.031      9.345      0.000       0.229       0.350\n",
      "OTHER OPERATIONS ON TEET           0.3409      0.069      4.935      0.000       0.206       0.476\n",
      "OTHER OPERATIONS ON VESS           0.2109      0.031      6.869      0.000       0.151       0.271\n",
      "PROCEDURES AND INTERVENT           0.1430      0.053      2.680      0.007       0.038       0.248\n",
      "PROCEDURES RELATED TO TH           1.0078      0.043     23.353      0.000       0.923       1.092\n",
      "REPAIR AND PLASTIC OPERA           0.6956      0.054     12.937      0.000       0.590       0.801\n",
      "REPLACEMENT AND REMOVAL            0.6717      0.069      9.805      0.000       0.537       0.806\n",
      "Y                                 -0.0561      0.002    -27.412      0.000      -0.060      -0.052\n",
      "2                                 -0.1388      0.006    -23.168      0.000      -0.151      -0.127\n",
      "4                                 -0.1868      0.006    -29.159      0.000      -0.199      -0.174\n",
      "5                                 -0.0376      0.006     -6.455      0.000      -0.049      -0.026\n",
      "6                                 -0.2393      0.007    -36.380      0.000      -0.252      -0.226\n",
      "7                                 -0.4426      0.009    -48.025      0.000      -0.461      -0.425\n",
      "8                                 -0.2009      0.009    -22.947      0.000      -0.218      -0.184\n",
      "9                                 -0.1060      0.008    -12.476      0.000      -0.123      -0.089\n",
      "10                                -0.1081      0.007    -16.409      0.000      -0.121      -0.095\n",
      "11                                -0.1474      0.006    -22.738      0.000      -0.160      -0.135\n",
      "12                                -0.0858      0.006    -13.214      0.000      -0.098      -0.073\n",
      "Hilding-Long Memorial Hospital     0.4274      0.008     53.721      0.000       0.412       0.443\n",
      "Independence Medical Center        0.2816      0.010     27.031      0.000       0.261       0.302\n",
      "Mercy Hospital                     0.3992      0.007     54.500      0.000       0.385       0.414\n",
      "Oxbow Regional Hospital            0.4310      0.009     46.685      0.000       0.413       0.449\n",
      "St. Anthony Medical Center         0.3936      0.007     57.029      0.000       0.380       0.407\n",
      "==============================================================================\n",
      "Omnibus:                    21404.511   Durbin-Watson:                   1.488\n",
      "Prob(Omnibus):                  0.000   Jarque-Bera (JB):           230139.529\n",
      "Skew:                           0.352   Prob(JB):                         0.00\n",
      "Kurtosis:                       9.106   Cond. No.                     1.02e+16\n",
      "==============================================================================\n",
      "\n",
      "Warnings:\n",
      "[1] Standard Errors assume that the covariance matrix of the errors is correctly specified.\n",
      "[2] The smallest eigenvalue is 8.12e-24. This might indicate that there are\n",
      "strong multicollinearity problems or that the design matrix is singular.\n"
     ]
    }
   ],
   "source": [
    "#print summary\n",
    "print (lm5.summary())"
   ]
  },
  {
   "cell_type": "code",
   "execution_count": null,
   "metadata": {},
   "outputs": [],
   "source": [
    "#equation of prediction\n",
    "#I will put ... for all other variables\n",
    "#interpretation : 1 yr of PatientAge yields .0011 days in hospital \n",
    "#being a patient at Oxbow Reg Hosp yileds .4310 days in hospital\n",
    "LENGTH_OF_STAY = 1.7227 + 0.0011*PatientAge ...\n",
    "...+ 0.4310*Oxbow Regional Hospital"
   ]
  },
  {
   "cell_type": "code",
   "execution_count": null,
   "metadata": {},
   "outputs": [],
   "source": []
  },
  {
   "cell_type": "code",
   "execution_count": null,
   "metadata": {},
   "outputs": [],
   "source": []
  },
  {
   "cell_type": "code",
   "execution_count": 468,
   "metadata": {},
   "outputs": [],
   "source": [
    "#fine tuning the multiple regression model using scikit learn\n",
    "#using train/test split to see if predictors with p-value > .05 are useful\n",
    "#model 6 with all predictors\n",
    "#model 7 without insignificant predictors\n",
    "#using the root mean squared error as a model evaluation metric"
   ]
  },
  {
   "cell_type": "code",
   "execution_count": null,
   "metadata": {},
   "outputs": [],
   "source": []
  },
  {
   "cell_type": "code",
   "execution_count": 469,
   "metadata": {},
   "outputs": [],
   "source": [
    "#comparative multiple regression model in scikit-learn\n",
    "#using train/test split\n",
    "#including all predictor variables"
   ]
  },
  {
   "cell_type": "code",
   "execution_count": 470,
   "metadata": {},
   "outputs": [],
   "source": [
    "#response variable\n",
    "y6 = df['LENGTH_OF_STAY']"
   ]
  },
  {
   "cell_type": "code",
   "execution_count": 471,
   "metadata": {},
   "outputs": [],
   "source": [
    "#all columns except response \n",
    "X6 = df.drop('LENGTH_OF_STAY', axis=1)"
   ]
  },
  {
   "cell_type": "code",
   "execution_count": 472,
   "metadata": {},
   "outputs": [],
   "source": [
    "#split data\n",
    "X6_train, X6_test, y6_train, y6_test = train_test_split(X6, y6, random_state=1)"
   ]
  },
  {
   "cell_type": "code",
   "execution_count": 473,
   "metadata": {},
   "outputs": [],
   "source": [
    "#model\n",
    "lm6 = LinearRegression()"
   ]
  },
  {
   "cell_type": "code",
   "execution_count": 474,
   "metadata": {},
   "outputs": [
    {
     "data": {
      "text/plain": [
       "LinearRegression(copy_X=True, fit_intercept=True, n_jobs=None, normalize=False)"
      ]
     },
     "execution_count": 474,
     "metadata": {},
     "output_type": "execute_result"
    }
   ],
   "source": [
    "#fit model\n",
    "lm6.fit(X6_train, y6_train)"
   ]
  },
  {
   "cell_type": "code",
   "execution_count": 475,
   "metadata": {},
   "outputs": [],
   "source": [
    "#predict\n",
    "y6_pred = lm6.predict(X6_test)"
   ]
  },
  {
   "cell_type": "code",
   "execution_count": 476,
   "metadata": {},
   "outputs": [
    {
     "data": {
      "text/plain": [
       "Text(0, 0.5, 'Predicted Values')"
      ]
     },
     "execution_count": 476,
     "metadata": {},
     "output_type": "execute_result"
    },
    {
     "data": {
      "image/png": "[encoded data removed]",
      "text/plain": [
       "<Figure size 432x288 with 1 Axes>"
      ]
     },
     "metadata": {
      "needs_background": "light"
     },
     "output_type": "display_data"
    }
   ],
   "source": [
    "#scatterplot of actual vs predicted values\n",
    "#linear relationship looks good\n",
    "plt.scatter(y6_test,y6_pred)\n",
    "plt.xlabel('Y Test (True Values)')\n",
    "plt.ylabel('Predicted Values')"
   ]
  },
  {
   "cell_type": "code",
   "execution_count": 477,
   "metadata": {},
   "outputs": [
    {
     "name": "stdout",
     "output_type": "stream",
     "text": [
      "0.6070117537255889\n"
     ]
    }
   ],
   "source": [
    "#print root mean squared error\n",
    "#interpretation : a range of +-0.60701 calculates model error\n",
    "#actual LENGTH_OF_STAY will be less than or greater than 0.60701 of predicted value\n",
    "#for example if length of stay is predicted to be 5\n",
    "#then actual length of stay could be between 4.39299 and 5.60701\n",
    "print(np.sqrt(metrics.mean_squared_error(y6_test, y6_pred)))"
   ]
  },
  {
   "cell_type": "code",
   "execution_count": 478,
   "metadata": {},
   "outputs": [
    {
     "data": {
      "text/plain": [
       "<matplotlib.axes._subplots.AxesSubplot at 0x29546b2cc88>"
      ]
     },
     "execution_count": 478,
     "metadata": {},
     "output_type": "execute_result"
    },
    {
     "data": {
      "image/png": "[encoded data removed]",
      "text/plain": [
       "<Figure size 432x288 with 1 Axes>"
      ]
     },
     "metadata": {
      "needs_background": "light"
     },
     "output_type": "display_data"
    }
   ],
   "source": [
    "#residual plot\n",
    "#somewhat normally distributed\n",
    "sns.distplot((y6_test-y6_pred),bins=50)"
   ]
  },
  {
   "cell_type": "code",
   "execution_count": 479,
   "metadata": {},
   "outputs": [
    {
     "data": {
      "text/plain": [
       "0.9783488374233068"
      ]
     },
     "execution_count": 479,
     "metadata": {},
     "output_type": "execute_result"
    }
   ],
   "source": [
    "#R-squared statistic\n",
    "metrics.explained_variance_score(y6_test,y6_pred)"
   ]
  },
  {
   "cell_type": "code",
   "execution_count": 480,
   "metadata": {},
   "outputs": [
    {
     "name": "stdout",
     "output_type": "stream",
     "text": [
      "1.6615976815682076\n"
     ]
    }
   ],
   "source": [
    "#intercept\n",
    "print(lm6.intercept_)"
   ]
  },
  {
   "cell_type": "code",
   "execution_count": 481,
   "metadata": {},
   "outputs": [
    {
     "data": {
      "text/plain": [
       "array([ 1.11276057e-03,  6.73868969e-02,  1.05108567e+00, -5.98806776e-03,\n",
       "       -2.63328888e-03, -5.83788270e-02,  2.01186400e-02, -1.84456866e-03,\n",
       "        2.27949893e-02, -4.20648518e-02,  4.52728743e-01,  4.62429008e-01,\n",
       "        3.38934216e-01,  2.96490025e-01,  3.88661567e-01,  2.80996803e+00,\n",
       "        5.61778316e-02,  3.27396955e-01,  8.93981705e-01, -1.83352304e-01,\n",
       "        3.84604203e-01,  7.70632929e-01,  6.78833608e-01,  3.38494974e-01,\n",
       "        5.30651322e-01,  4.44463499e-01,  8.34577916e-01,  1.60160099e-01,\n",
       "        2.10871155e-01,  3.34199590e-01,  3.85561555e-01,  2.60917825e-01,\n",
       "        1.82410657e-01,  1.05645556e+00,  7.34200755e-01,  7.19988369e-01,\n",
       "       -5.83788270e-02, -1.37031256e-01,  1.91185595e-03, -1.84557945e-01,\n",
       "       -3.89688365e-02, -2.45771972e-01, -4.45286498e-01, -1.89656378e-01,\n",
       "       -1.02854063e-01, -1.10393161e-01, -1.42579594e-01, -8.56183330e-02,\n",
       "        4.47804106e-01,  3.04234255e-01,  4.16829097e-01,  4.49521773e-01,\n",
       "        4.10525491e-01,  8.18802290e-03,  3.96975573e-02])"
      ]
     },
     "execution_count": 481,
     "metadata": {},
     "output_type": "execute_result"
    }
   ],
   "source": [
    "#coefficients\n",
    "lm6.coef_"
   ]
  },
  {
   "cell_type": "code",
   "execution_count": 482,
   "metadata": {},
   "outputs": [
    {
     "data": {
      "text/plain": [
       "Index([                    'PatientAge',               'DRG_APR_SEVERITY',                       'ICU_DAYS',                     'op_visits6',               'Num_Chronic_Cond',                 'order_set_used',                 'operationcount',                              'M',                         'Others',                          'White',        'INCISION, EXCISION, AND',       'INTERVIEW, EVALUATION, C',        'NONOPERATIVE INTUBATION',               'NUCLEAR MEDICINE',                   'No Procedure',             'OPERATIONS ON ANUS',       'OPERATIONS ON BONE MARRO',       'OPERATIONS ON CHEST WALL',            'OPERATIONS ON LIVER',        'OPERATIONS ON LYMPHATIC',             'OPERATIONS ON NOSE',       'OPERATIONS ON RECTUM REC',       'OPERATIONS ON SKIN AND S',       'OPERATIONS ON SPINAL COR',       'OTHER DIAGNOSTIC RADIOLO',       'OTHER NONOPERATIVE PROCE',       'OTHER OPERATIONS ON ABDO',       'OTHER OPERATIONS ON HEAR',       'OTHER OPERATIONS ON LARY',\n",
       "             'OTHER OPERATIONS ON LUNG',       'OTHER OPERATIONS ON TEET',       'OTHER OPERATIONS ON VESS',       'PROCEDURES AND INTERVENT',       'PROCEDURES RELATED TO TH',       'REPAIR AND PLASTIC OPERA',        'REPLACEMENT AND REMOVAL',                              'Y',                                2,                                3,                                4,                                5,                                6,                                7,                                8,                                9,                               10,                               11,                               12, 'Hilding-Long Memorial Hospital',    'Independence Medical Center',                 'Mercy Hospital',        'Oxbow Regional Hospital',     'St. Anthony Medical Center',     'Superior-Parkland Hospital',  'Valley City Regional Hospital'],\n",
       "      dtype='object')"
      ]
     },
     "execution_count": 482,
     "metadata": {},
     "output_type": "execute_result"
    }
   ],
   "source": [
    "#columns\n",
    "X6_train.columns"
   ]
  },
  {
   "cell_type": "code",
   "execution_count": 483,
   "metadata": {},
   "outputs": [],
   "source": [
    "#data frame to print column names with coefficients\n",
    "cdf6 = pd.DataFrame(lm6.coef_,X6.columns,columns=['Coeff'])"
   ]
  },
  {
   "cell_type": "code",
   "execution_count": 484,
   "metadata": {},
   "outputs": [
    {
     "data": {
      "text/html": [
       "<div>\n",
       "<style scoped>\n",
       "    .dataframe tbody tr th:only-of-type {\n",
       "        vertical-align: middle;\n",
       "    }\n",
       "\n",
       "    .dataframe tbody tr th {\n",
       "        vertical-align: top;\n",
       "    }\n",
       "\n",
       "    .dataframe thead th {\n",
       "        text-align: right;\n",
       "    }\n",
       "</style>\n",
       "<table border=\"1\" class=\"dataframe\">\n",
       "  <thead>\n",
       "    <tr style=\"text-align: right;\">\n",
       "      <th></th>\n",
       "      <th>Coeff</th>\n",
       "    </tr>\n",
       "  </thead>\n",
       "  <tbody>\n",
       "    <tr>\n",
       "      <td>PatientAge</td>\n",
       "      <td>0.001113</td>\n",
       "    </tr>\n",
       "    <tr>\n",
       "      <td>DRG_APR_SEVERITY</td>\n",
       "      <td>0.067387</td>\n",
       "    </tr>\n",
       "    <tr>\n",
       "      <td>ICU_DAYS</td>\n",
       "      <td>1.051086</td>\n",
       "    </tr>\n",
       "    <tr>\n",
       "      <td>op_visits6</td>\n",
       "      <td>-0.005988</td>\n",
       "    </tr>\n",
       "    <tr>\n",
       "      <td>Num_Chronic_Cond</td>\n",
       "      <td>-0.002633</td>\n",
       "    </tr>\n",
       "    <tr>\n",
       "      <td>order_set_used</td>\n",
       "      <td>-0.058379</td>\n",
       "    </tr>\n",
       "    <tr>\n",
       "      <td>operationcount</td>\n",
       "      <td>0.020119</td>\n",
       "    </tr>\n",
       "    <tr>\n",
       "      <td>M</td>\n",
       "      <td>-0.001845</td>\n",
       "    </tr>\n",
       "    <tr>\n",
       "      <td>Others</td>\n",
       "      <td>0.022795</td>\n",
       "    </tr>\n",
       "    <tr>\n",
       "      <td>White</td>\n",
       "      <td>-0.042065</td>\n",
       "    </tr>\n",
       "    <tr>\n",
       "      <td>INCISION, EXCISION, AND</td>\n",
       "      <td>0.452729</td>\n",
       "    </tr>\n",
       "    <tr>\n",
       "      <td>INTERVIEW, EVALUATION, C</td>\n",
       "      <td>0.462429</td>\n",
       "    </tr>\n",
       "    <tr>\n",
       "      <td>NONOPERATIVE INTUBATION</td>\n",
       "      <td>0.338934</td>\n",
       "    </tr>\n",
       "    <tr>\n",
       "      <td>NUCLEAR MEDICINE</td>\n",
       "      <td>0.296490</td>\n",
       "    </tr>\n",
       "    <tr>\n",
       "      <td>No Procedure</td>\n",
       "      <td>0.388662</td>\n",
       "    </tr>\n",
       "    <tr>\n",
       "      <td>OPERATIONS ON ANUS</td>\n",
       "      <td>2.809968</td>\n",
       "    </tr>\n",
       "    <tr>\n",
       "      <td>OPERATIONS ON BONE MARRO</td>\n",
       "      <td>0.056178</td>\n",
       "    </tr>\n",
       "    <tr>\n",
       "      <td>OPERATIONS ON CHEST WALL</td>\n",
       "      <td>0.327397</td>\n",
       "    </tr>\n",
       "    <tr>\n",
       "      <td>OPERATIONS ON LIVER</td>\n",
       "      <td>0.893982</td>\n",
       "    </tr>\n",
       "    <tr>\n",
       "      <td>OPERATIONS ON LYMPHATIC</td>\n",
       "      <td>-0.183352</td>\n",
       "    </tr>\n",
       "    <tr>\n",
       "      <td>OPERATIONS ON NOSE</td>\n",
       "      <td>0.384604</td>\n",
       "    </tr>\n",
       "    <tr>\n",
       "      <td>OPERATIONS ON RECTUM REC</td>\n",
       "      <td>0.770633</td>\n",
       "    </tr>\n",
       "    <tr>\n",
       "      <td>OPERATIONS ON SKIN AND S</td>\n",
       "      <td>0.678834</td>\n",
       "    </tr>\n",
       "    <tr>\n",
       "      <td>OPERATIONS ON SPINAL COR</td>\n",
       "      <td>0.338495</td>\n",
       "    </tr>\n",
       "    <tr>\n",
       "      <td>OTHER DIAGNOSTIC RADIOLO</td>\n",
       "      <td>0.530651</td>\n",
       "    </tr>\n",
       "    <tr>\n",
       "      <td>OTHER NONOPERATIVE PROCE</td>\n",
       "      <td>0.444463</td>\n",
       "    </tr>\n",
       "    <tr>\n",
       "      <td>OTHER OPERATIONS ON ABDO</td>\n",
       "      <td>0.834578</td>\n",
       "    </tr>\n",
       "    <tr>\n",
       "      <td>OTHER OPERATIONS ON HEAR</td>\n",
       "      <td>0.160160</td>\n",
       "    </tr>\n",
       "    <tr>\n",
       "      <td>OTHER OPERATIONS ON LARY</td>\n",
       "      <td>0.210871</td>\n",
       "    </tr>\n",
       "    <tr>\n",
       "      <td>OTHER OPERATIONS ON LUNG</td>\n",
       "      <td>0.334200</td>\n",
       "    </tr>\n",
       "    <tr>\n",
       "      <td>OTHER OPERATIONS ON TEET</td>\n",
       "      <td>0.385562</td>\n",
       "    </tr>\n",
       "    <tr>\n",
       "      <td>OTHER OPERATIONS ON VESS</td>\n",
       "      <td>0.260918</td>\n",
       "    </tr>\n",
       "    <tr>\n",
       "      <td>PROCEDURES AND INTERVENT</td>\n",
       "      <td>0.182411</td>\n",
       "    </tr>\n",
       "    <tr>\n",
       "      <td>PROCEDURES RELATED TO TH</td>\n",
       "      <td>1.056456</td>\n",
       "    </tr>\n",
       "    <tr>\n",
       "      <td>REPAIR AND PLASTIC OPERA</td>\n",
       "      <td>0.734201</td>\n",
       "    </tr>\n",
       "    <tr>\n",
       "      <td>REPLACEMENT AND REMOVAL</td>\n",
       "      <td>0.719988</td>\n",
       "    </tr>\n",
       "    <tr>\n",
       "      <td>Y</td>\n",
       "      <td>-0.058379</td>\n",
       "    </tr>\n",
       "    <tr>\n",
       "      <td>2</td>\n",
       "      <td>-0.137031</td>\n",
       "    </tr>\n",
       "    <tr>\n",
       "      <td>3</td>\n",
       "      <td>0.001912</td>\n",
       "    </tr>\n",
       "    <tr>\n",
       "      <td>4</td>\n",
       "      <td>-0.184558</td>\n",
       "    </tr>\n",
       "    <tr>\n",
       "      <td>5</td>\n",
       "      <td>-0.038969</td>\n",
       "    </tr>\n",
       "    <tr>\n",
       "      <td>6</td>\n",
       "      <td>-0.245772</td>\n",
       "    </tr>\n",
       "    <tr>\n",
       "      <td>7</td>\n",
       "      <td>-0.445286</td>\n",
       "    </tr>\n",
       "    <tr>\n",
       "      <td>8</td>\n",
       "      <td>-0.189656</td>\n",
       "    </tr>\n",
       "    <tr>\n",
       "      <td>9</td>\n",
       "      <td>-0.102854</td>\n",
       "    </tr>\n",
       "    <tr>\n",
       "      <td>10</td>\n",
       "      <td>-0.110393</td>\n",
       "    </tr>\n",
       "    <tr>\n",
       "      <td>11</td>\n",
       "      <td>-0.142580</td>\n",
       "    </tr>\n",
       "    <tr>\n",
       "      <td>12</td>\n",
       "      <td>-0.085618</td>\n",
       "    </tr>\n",
       "    <tr>\n",
       "      <td>Hilding-Long Memorial Hospital</td>\n",
       "      <td>0.447804</td>\n",
       "    </tr>\n",
       "    <tr>\n",
       "      <td>Independence Medical Center</td>\n",
       "      <td>0.304234</td>\n",
       "    </tr>\n",
       "    <tr>\n",
       "      <td>Mercy Hospital</td>\n",
       "      <td>0.416829</td>\n",
       "    </tr>\n",
       "    <tr>\n",
       "      <td>Oxbow Regional Hospital</td>\n",
       "      <td>0.449522</td>\n",
       "    </tr>\n",
       "    <tr>\n",
       "      <td>St. Anthony Medical Center</td>\n",
       "      <td>0.410525</td>\n",
       "    </tr>\n",
       "    <tr>\n",
       "      <td>Superior-Parkland Hospital</td>\n",
       "      <td>0.008188</td>\n",
       "    </tr>\n",
       "    <tr>\n",
       "      <td>Valley City Regional Hospital</td>\n",
       "      <td>0.039698</td>\n",
       "    </tr>\n",
       "  </tbody>\n",
       "</table>\n",
       "</div>"
      ],
      "text/plain": [
       "                                   Coeff\n",
       "PatientAge                      0.001113\n",
       "DRG_APR_SEVERITY                0.067387\n",
       "ICU_DAYS                        1.051086\n",
       "op_visits6                     -0.005988\n",
       "Num_Chronic_Cond               -0.002633\n",
       "order_set_used                 -0.058379\n",
       "operationcount                  0.020119\n",
       "M                              -0.001845\n",
       "Others                          0.022795\n",
       "White                          -0.042065\n",
       "INCISION, EXCISION, AND         0.452729\n",
       "INTERVIEW, EVALUATION, C        0.462429\n",
       "NONOPERATIVE INTUBATION         0.338934\n",
       "NUCLEAR MEDICINE                0.296490\n",
       "No Procedure                    0.388662\n",
       "OPERATIONS ON ANUS              2.809968\n",
       "OPERATIONS ON BONE MARRO        0.056178\n",
       "OPERATIONS ON CHEST WALL        0.327397\n",
       "OPERATIONS ON LIVER             0.893982\n",
       "OPERATIONS ON LYMPHATIC        -0.183352\n",
       "OPERATIONS ON NOSE              0.384604\n",
       "OPERATIONS ON RECTUM REC        0.770633\n",
       "OPERATIONS ON SKIN AND S        0.678834\n",
       "OPERATIONS ON SPINAL COR        0.338495\n",
       "OTHER DIAGNOSTIC RADIOLO        0.530651\n",
       "OTHER NONOPERATIVE PROCE        0.444463\n",
       "OTHER OPERATIONS ON ABDO        0.834578\n",
       "OTHER OPERATIONS ON HEAR        0.160160\n",
       "OTHER OPERATIONS ON LARY        0.210871\n",
       "OTHER OPERATIONS ON LUNG        0.334200\n",
       "OTHER OPERATIONS ON TEET        0.385562\n",
       "OTHER OPERATIONS ON VESS        0.260918\n",
       "PROCEDURES AND INTERVENT        0.182411\n",
       "PROCEDURES RELATED TO TH        1.056456\n",
       "REPAIR AND PLASTIC OPERA        0.734201\n",
       "REPLACEMENT AND REMOVAL         0.719988\n",
       "Y                              -0.058379\n",
       "2                              -0.137031\n",
       "3                               0.001912\n",
       "4                              -0.184558\n",
       "5                              -0.038969\n",
       "6                              -0.245772\n",
       "7                              -0.445286\n",
       "8                              -0.189656\n",
       "9                              -0.102854\n",
       "10                             -0.110393\n",
       "11                             -0.142580\n",
       "12                             -0.085618\n",
       "Hilding-Long Memorial Hospital  0.447804\n",
       "Independence Medical Center     0.304234\n",
       "Mercy Hospital                  0.416829\n",
       "Oxbow Regional Hospital         0.449522\n",
       "St. Anthony Medical Center      0.410525\n",
       "Superior-Parkland Hospital      0.008188\n",
       "Valley City Regional Hospital   0.039698"
      ]
     },
     "execution_count": 484,
     "metadata": {},
     "output_type": "execute_result"
    }
   ],
   "source": [
    "#print columns with coefficients\n",
    "cdf6"
   ]
  },
  {
   "cell_type": "code",
   "execution_count": null,
   "metadata": {},
   "outputs": [],
   "source": [
    "#equation of prediction\n",
    "#I will put ... for all other variables\n",
    "#interpretation : 1 yr of PatientAge yields .00111 days in hospital \n",
    "#being a patient at Valley City Reg Hosp yileds .03969 days in hospital\n",
    "LENGTH_OF_STAY = 1.66159 + 0.00111*PatientAge ...\n",
    "...+ 0.03969*Oxbow Regional Hospital"
   ]
  },
  {
   "cell_type": "code",
   "execution_count": null,
   "metadata": {},
   "outputs": [],
   "source": []
  },
  {
   "cell_type": "code",
   "execution_count": null,
   "metadata": {},
   "outputs": [],
   "source": []
  },
  {
   "cell_type": "code",
   "execution_count": 485,
   "metadata": {},
   "outputs": [],
   "source": [
    "#comparative multiple regression model in scikit learn\n",
    "#excluding predictor columns with p-values > .05"
   ]
  },
  {
   "cell_type": "code",
   "execution_count": 486,
   "metadata": {},
   "outputs": [],
   "source": [
    "#response variable\n",
    "y7 = df['LENGTH_OF_STAY']"
   ]
  },
  {
   "cell_type": "code",
   "execution_count": 487,
   "metadata": {},
   "outputs": [],
   "source": [
    "#all columns except response and insignificant predictors\n",
    "X7 = df.drop(['LENGTH_OF_STAY','Num_Chronic_Cond','M','OPERATIONS ON BONE MARRO',3,'Superior-Parkland Hospital','Valley City Regional Hospital'], axis=1)"
   ]
  },
  {
   "cell_type": "code",
   "execution_count": 488,
   "metadata": {},
   "outputs": [],
   "source": [
    "#split data\n",
    "X7_train, X7_test, y7_train, y7_test = train_test_split(X7, y7, random_state=1)"
   ]
  },
  {
   "cell_type": "code",
   "execution_count": 489,
   "metadata": {},
   "outputs": [],
   "source": [
    "#model\n",
    "lm7 = LinearRegression()"
   ]
  },
  {
   "cell_type": "code",
   "execution_count": 490,
   "metadata": {},
   "outputs": [
    {
     "data": {
      "text/plain": [
       "LinearRegression(copy_X=True, fit_intercept=True, n_jobs=None, normalize=False)"
      ]
     },
     "execution_count": 490,
     "metadata": {},
     "output_type": "execute_result"
    }
   ],
   "source": [
    "#fit model\n",
    "lm7.fit(X7_train, y7_train)"
   ]
  },
  {
   "cell_type": "code",
   "execution_count": 491,
   "metadata": {},
   "outputs": [],
   "source": [
    "#predict\n",
    "y7_pred = lm7.predict(X7_test)"
   ]
  },
  {
   "cell_type": "code",
   "execution_count": 492,
   "metadata": {},
   "outputs": [
    {
     "data": {
      "text/plain": [
       "Text(0, 0.5, 'Predicted Values')"
      ]
     },
     "execution_count": 492,
     "metadata": {},
     "output_type": "execute_result"
    },
    {
     "data": {
      "image/png": "[encoded data removed]",
      "text/plain": [
       "<Figure size 432x288 with 1 Axes>"
      ]
     },
     "metadata": {
      "needs_background": "light"
     },
     "output_type": "display_data"
    }
   ],
   "source": [
    "#scatterplot of actual vs predicted values\n",
    "#linear relationship looks good\n",
    "plt.scatter(y7_test,y7_pred)\n",
    "plt.xlabel('Y Test (True Values)')\n",
    "plt.ylabel('Predicted Values')"
   ]
  },
  {
   "cell_type": "code",
   "execution_count": 493,
   "metadata": {},
   "outputs": [
    {
     "name": "stdout",
     "output_type": "stream",
     "text": [
      "0.6069997425911373\n"
     ]
    }
   ],
   "source": [
    "#print root mean squared error\n",
    "#interpretation : a range of +-0.60699 calculates model error\n",
    "#actual LENGTH_OF_STAY will be less than or greater than 0.60701 of predicted value\n",
    "#if length of stay is predicted to be 5\n",
    "#then actual length of stay could be between 4.39301 and 5.60699\n",
    "print(np.sqrt(metrics.mean_squared_error(y7_test, y7_pred)))"
   ]
  },
  {
   "cell_type": "code",
   "execution_count": 494,
   "metadata": {},
   "outputs": [
    {
     "data": {
      "text/plain": [
       "<matplotlib.axes._subplots.AxesSubplot at 0x2953fa61848>"
      ]
     },
     "execution_count": 494,
     "metadata": {},
     "output_type": "execute_result"
    },
    {
     "data": {
      "image/png": "[encoded data removed]",
      "text/plain": [
       "<Figure size 432x288 with 1 Axes>"
      ]
     },
     "metadata": {
      "needs_background": "light"
     },
     "output_type": "display_data"
    }
   ],
   "source": [
    "#residual plot is somewhat normally distributed\n",
    "sns.distplot((y7_test-y7_pred),bins=50)"
   ]
  },
  {
   "cell_type": "code",
   "execution_count": 495,
   "metadata": {},
   "outputs": [
    {
     "data": {
      "text/plain": [
       "0.9783496829290176"
      ]
     },
     "execution_count": 495,
     "metadata": {},
     "output_type": "execute_result"
    }
   ],
   "source": [
    "#R-squared statistic\n",
    "metrics.explained_variance_score(y7_test,y7_pred)"
   ]
  },
  {
   "cell_type": "code",
   "execution_count": 496,
   "metadata": {},
   "outputs": [
    {
     "name": "stdout",
     "output_type": "stream",
     "text": [
      "1.711114508809394\n"
     ]
    }
   ],
   "source": [
    "#equation intercept\n",
    "print(lm7.intercept_)"
   ]
  },
  {
   "cell_type": "code",
   "execution_count": 497,
   "metadata": {},
   "outputs": [
    {
     "data": {
      "text/plain": [
       "array([ 1.12450361e-03,  6.75760126e-02,  1.05115710e+00, -6.01543587e-03,\n",
       "       -5.85366869e-02,  2.01772753e-02,  2.34795521e-02, -4.20967926e-02,\n",
       "        4.15931059e-01,  4.24358154e-01,  3.01449795e-01,  2.59117447e-01,\n",
       "        3.51125870e-01,  2.77213388e+00,  2.90932452e-01,  8.54797721e-01,\n",
       "       -2.18387176e-01,  3.47279186e-01,  7.31467204e-01,  6.41533994e-01,\n",
       "        2.99961874e-01,  4.93362242e-01,  4.06979086e-01,  7.95771999e-01,\n",
       "        1.23476533e-01,  1.73794158e-01,  2.97790044e-01,  3.49582926e-01,\n",
       "        2.23744869e-01,  1.35526471e-01,  1.01757745e+00,  6.96662316e-01,\n",
       "        6.83519616e-01, -5.85366869e-02, -1.38157744e-01, -1.83883887e-01,\n",
       "       -3.93854662e-02, -2.45961789e-01, -4.46333344e-01, -1.89976373e-01,\n",
       "       -1.03219042e-01, -1.10713640e-01, -1.43922023e-01, -8.65535737e-02,\n",
       "        4.31522025e-01,  2.88465980e-01,  4.00001144e-01,  4.33273259e-01,\n",
       "        3.94352616e-01])"
      ]
     },
     "execution_count": 497,
     "metadata": {},
     "output_type": "execute_result"
    }
   ],
   "source": [
    "#coefficients for predictor variables\n",
    "#notice they are not attatched to their names\n",
    "lm7.coef_"
   ]
  },
  {
   "cell_type": "code",
   "execution_count": 498,
   "metadata": {},
   "outputs": [
    {
     "data": {
      "text/plain": [
       "Index(['PatientAge', 'DRG_APR_SEVERITY', 'ICU_DAYS', 'op_visits6', 'order_set_used', 'operationcount', 'Others', 'White', 'INCISION, EXCISION, AND', 'INTERVIEW, EVALUATION, C', 'NONOPERATIVE INTUBATION', 'NUCLEAR MEDICINE', 'No Procedure', 'OPERATIONS ON ANUS', 'OPERATIONS ON CHEST WALL', 'OPERATIONS ON LIVER', 'OPERATIONS ON LYMPHATIC', 'OPERATIONS ON NOSE', 'OPERATIONS ON RECTUM REC', 'OPERATIONS ON SKIN AND S', 'OPERATIONS ON SPINAL COR', 'OTHER DIAGNOSTIC RADIOLO', 'OTHER NONOPERATIVE PROCE', 'OTHER OPERATIONS ON ABDO', 'OTHER OPERATIONS ON HEAR', 'OTHER OPERATIONS ON LARY', 'OTHER OPERATIONS ON LUNG', 'OTHER OPERATIONS ON TEET', 'OTHER OPERATIONS ON VESS', 'PROCEDURES AND INTERVENT', 'PROCEDURES RELATED TO TH', 'REPAIR AND PLASTIC OPERA', 'REPLACEMENT AND REMOVAL', 'Y', 2, 4, 5, 6, 7, 8, 9, 10, 11, 12, 'Hilding-Long Memorial Hospital', 'Independence Medical Center', 'Mercy Hospital', 'Oxbow Regional Hospital', 'St. Anthony Medical Center'], dtype='object')"
      ]
     },
     "execution_count": 498,
     "metadata": {},
     "output_type": "execute_result"
    }
   ],
   "source": [
    "#call column names\n",
    "X7_train.columns"
   ]
  },
  {
   "cell_type": "code",
   "execution_count": 499,
   "metadata": {},
   "outputs": [],
   "source": [
    "#create data frame of columns with their coefficients\n",
    "cdf7 = pd.DataFrame(lm7.coef_,X7.columns,columns=['Coeff'])"
   ]
  },
  {
   "cell_type": "code",
   "execution_count": 500,
   "metadata": {},
   "outputs": [
    {
     "data": {
      "text/html": [
       "<div>\n",
       "<style scoped>\n",
       "    .dataframe tbody tr th:only-of-type {\n",
       "        vertical-align: middle;\n",
       "    }\n",
       "\n",
       "    .dataframe tbody tr th {\n",
       "        vertical-align: top;\n",
       "    }\n",
       "\n",
       "    .dataframe thead th {\n",
       "        text-align: right;\n",
       "    }\n",
       "</style>\n",
       "<table border=\"1\" class=\"dataframe\">\n",
       "  <thead>\n",
       "    <tr style=\"text-align: right;\">\n",
       "      <th></th>\n",
       "      <th>Coeff</th>\n",
       "    </tr>\n",
       "  </thead>\n",
       "  <tbody>\n",
       "    <tr>\n",
       "      <td>PatientAge</td>\n",
       "      <td>0.001125</td>\n",
       "    </tr>\n",
       "    <tr>\n",
       "      <td>DRG_APR_SEVERITY</td>\n",
       "      <td>0.067576</td>\n",
       "    </tr>\n",
       "    <tr>\n",
       "      <td>ICU_DAYS</td>\n",
       "      <td>1.051157</td>\n",
       "    </tr>\n",
       "    <tr>\n",
       "      <td>op_visits6</td>\n",
       "      <td>-0.006015</td>\n",
       "    </tr>\n",
       "    <tr>\n",
       "      <td>order_set_used</td>\n",
       "      <td>-0.058537</td>\n",
       "    </tr>\n",
       "    <tr>\n",
       "      <td>operationcount</td>\n",
       "      <td>0.020177</td>\n",
       "    </tr>\n",
       "    <tr>\n",
       "      <td>Others</td>\n",
       "      <td>0.023480</td>\n",
       "    </tr>\n",
       "    <tr>\n",
       "      <td>White</td>\n",
       "      <td>-0.042097</td>\n",
       "    </tr>\n",
       "    <tr>\n",
       "      <td>INCISION, EXCISION, AND</td>\n",
       "      <td>0.415931</td>\n",
       "    </tr>\n",
       "    <tr>\n",
       "      <td>INTERVIEW, EVALUATION, C</td>\n",
       "      <td>0.424358</td>\n",
       "    </tr>\n",
       "    <tr>\n",
       "      <td>NONOPERATIVE INTUBATION</td>\n",
       "      <td>0.301450</td>\n",
       "    </tr>\n",
       "    <tr>\n",
       "      <td>NUCLEAR MEDICINE</td>\n",
       "      <td>0.259117</td>\n",
       "    </tr>\n",
       "    <tr>\n",
       "      <td>No Procedure</td>\n",
       "      <td>0.351126</td>\n",
       "    </tr>\n",
       "    <tr>\n",
       "      <td>OPERATIONS ON ANUS</td>\n",
       "      <td>2.772134</td>\n",
       "    </tr>\n",
       "    <tr>\n",
       "      <td>OPERATIONS ON CHEST WALL</td>\n",
       "      <td>0.290932</td>\n",
       "    </tr>\n",
       "    <tr>\n",
       "      <td>OPERATIONS ON LIVER</td>\n",
       "      <td>0.854798</td>\n",
       "    </tr>\n",
       "    <tr>\n",
       "      <td>OPERATIONS ON LYMPHATIC</td>\n",
       "      <td>-0.218387</td>\n",
       "    </tr>\n",
       "    <tr>\n",
       "      <td>OPERATIONS ON NOSE</td>\n",
       "      <td>0.347279</td>\n",
       "    </tr>\n",
       "    <tr>\n",
       "      <td>OPERATIONS ON RECTUM REC</td>\n",
       "      <td>0.731467</td>\n",
       "    </tr>\n",
       "    <tr>\n",
       "      <td>OPERATIONS ON SKIN AND S</td>\n",
       "      <td>0.641534</td>\n",
       "    </tr>\n",
       "    <tr>\n",
       "      <td>OPERATIONS ON SPINAL COR</td>\n",
       "      <td>0.299962</td>\n",
       "    </tr>\n",
       "    <tr>\n",
       "      <td>OTHER DIAGNOSTIC RADIOLO</td>\n",
       "      <td>0.493362</td>\n",
       "    </tr>\n",
       "    <tr>\n",
       "      <td>OTHER NONOPERATIVE PROCE</td>\n",
       "      <td>0.406979</td>\n",
       "    </tr>\n",
       "    <tr>\n",
       "      <td>OTHER OPERATIONS ON ABDO</td>\n",
       "      <td>0.795772</td>\n",
       "    </tr>\n",
       "    <tr>\n",
       "      <td>OTHER OPERATIONS ON HEAR</td>\n",
       "      <td>0.123477</td>\n",
       "    </tr>\n",
       "    <tr>\n",
       "      <td>OTHER OPERATIONS ON LARY</td>\n",
       "      <td>0.173794</td>\n",
       "    </tr>\n",
       "    <tr>\n",
       "      <td>OTHER OPERATIONS ON LUNG</td>\n",
       "      <td>0.297790</td>\n",
       "    </tr>\n",
       "    <tr>\n",
       "      <td>OTHER OPERATIONS ON TEET</td>\n",
       "      <td>0.349583</td>\n",
       "    </tr>\n",
       "    <tr>\n",
       "      <td>OTHER OPERATIONS ON VESS</td>\n",
       "      <td>0.223745</td>\n",
       "    </tr>\n",
       "    <tr>\n",
       "      <td>PROCEDURES AND INTERVENT</td>\n",
       "      <td>0.135526</td>\n",
       "    </tr>\n",
       "    <tr>\n",
       "      <td>PROCEDURES RELATED TO TH</td>\n",
       "      <td>1.017577</td>\n",
       "    </tr>\n",
       "    <tr>\n",
       "      <td>REPAIR AND PLASTIC OPERA</td>\n",
       "      <td>0.696662</td>\n",
       "    </tr>\n",
       "    <tr>\n",
       "      <td>REPLACEMENT AND REMOVAL</td>\n",
       "      <td>0.683520</td>\n",
       "    </tr>\n",
       "    <tr>\n",
       "      <td>Y</td>\n",
       "      <td>-0.058537</td>\n",
       "    </tr>\n",
       "    <tr>\n",
       "      <td>2</td>\n",
       "      <td>-0.138158</td>\n",
       "    </tr>\n",
       "    <tr>\n",
       "      <td>4</td>\n",
       "      <td>-0.183884</td>\n",
       "    </tr>\n",
       "    <tr>\n",
       "      <td>5</td>\n",
       "      <td>-0.039385</td>\n",
       "    </tr>\n",
       "    <tr>\n",
       "      <td>6</td>\n",
       "      <td>-0.245962</td>\n",
       "    </tr>\n",
       "    <tr>\n",
       "      <td>7</td>\n",
       "      <td>-0.446333</td>\n",
       "    </tr>\n",
       "    <tr>\n",
       "      <td>8</td>\n",
       "      <td>-0.189976</td>\n",
       "    </tr>\n",
       "    <tr>\n",
       "      <td>9</td>\n",
       "      <td>-0.103219</td>\n",
       "    </tr>\n",
       "    <tr>\n",
       "      <td>10</td>\n",
       "      <td>-0.110714</td>\n",
       "    </tr>\n",
       "    <tr>\n",
       "      <td>11</td>\n",
       "      <td>-0.143922</td>\n",
       "    </tr>\n",
       "    <tr>\n",
       "      <td>12</td>\n",
       "      <td>-0.086554</td>\n",
       "    </tr>\n",
       "    <tr>\n",
       "      <td>Hilding-Long Memorial Hospital</td>\n",
       "      <td>0.431522</td>\n",
       "    </tr>\n",
       "    <tr>\n",
       "      <td>Independence Medical Center</td>\n",
       "      <td>0.288466</td>\n",
       "    </tr>\n",
       "    <tr>\n",
       "      <td>Mercy Hospital</td>\n",
       "      <td>0.400001</td>\n",
       "    </tr>\n",
       "    <tr>\n",
       "      <td>Oxbow Regional Hospital</td>\n",
       "      <td>0.433273</td>\n",
       "    </tr>\n",
       "    <tr>\n",
       "      <td>St. Anthony Medical Center</td>\n",
       "      <td>0.394353</td>\n",
       "    </tr>\n",
       "  </tbody>\n",
       "</table>\n",
       "</div>"
      ],
      "text/plain": [
       "                                   Coeff\n",
       "PatientAge                      0.001125\n",
       "DRG_APR_SEVERITY                0.067576\n",
       "ICU_DAYS                        1.051157\n",
       "op_visits6                     -0.006015\n",
       "order_set_used                 -0.058537\n",
       "operationcount                  0.020177\n",
       "Others                          0.023480\n",
       "White                          -0.042097\n",
       "INCISION, EXCISION, AND         0.415931\n",
       "INTERVIEW, EVALUATION, C        0.424358\n",
       "NONOPERATIVE INTUBATION         0.301450\n",
       "NUCLEAR MEDICINE                0.259117\n",
       "No Procedure                    0.351126\n",
       "OPERATIONS ON ANUS              2.772134\n",
       "OPERATIONS ON CHEST WALL        0.290932\n",
       "OPERATIONS ON LIVER             0.854798\n",
       "OPERATIONS ON LYMPHATIC        -0.218387\n",
       "OPERATIONS ON NOSE              0.347279\n",
       "OPERATIONS ON RECTUM REC        0.731467\n",
       "OPERATIONS ON SKIN AND S        0.641534\n",
       "OPERATIONS ON SPINAL COR        0.299962\n",
       "OTHER DIAGNOSTIC RADIOLO        0.493362\n",
       "OTHER NONOPERATIVE PROCE        0.406979\n",
       "OTHER OPERATIONS ON ABDO        0.795772\n",
       "OTHER OPERATIONS ON HEAR        0.123477\n",
       "OTHER OPERATIONS ON LARY        0.173794\n",
       "OTHER OPERATIONS ON LUNG        0.297790\n",
       "OTHER OPERATIONS ON TEET        0.349583\n",
       "OTHER OPERATIONS ON VESS        0.223745\n",
       "PROCEDURES AND INTERVENT        0.135526\n",
       "PROCEDURES RELATED TO TH        1.017577\n",
       "REPAIR AND PLASTIC OPERA        0.696662\n",
       "REPLACEMENT AND REMOVAL         0.683520\n",
       "Y                              -0.058537\n",
       "2                              -0.138158\n",
       "4                              -0.183884\n",
       "5                              -0.039385\n",
       "6                              -0.245962\n",
       "7                              -0.446333\n",
       "8                              -0.189976\n",
       "9                              -0.103219\n",
       "10                             -0.110714\n",
       "11                             -0.143922\n",
       "12                             -0.086554\n",
       "Hilding-Long Memorial Hospital  0.431522\n",
       "Independence Medical Center     0.288466\n",
       "Mercy Hospital                  0.400001\n",
       "Oxbow Regional Hospital         0.433273\n",
       "St. Anthony Medical Center      0.394353"
      ]
     },
     "execution_count": 500,
     "metadata": {},
     "output_type": "execute_result"
    }
   ],
   "source": [
    "#print data frame of columns with their coefficients\n",
    "cdf7"
   ]
  },
  {
   "cell_type": "code",
   "execution_count": null,
   "metadata": {},
   "outputs": [],
   "source": [
    "#equation of prediction\n",
    "#I will put ... for all other variables\n",
    "#interpretation : 1 yr of PatientAge yields .00112 days in hospital \n",
    "#being a patient at St Anthony Med Cntr yileds .39435 days in hospital\n",
    "LENGTH_OF_STAY = 1.71111 + 0.00112*PatientAge ...\n",
    "...+ 0.39435*St Anthony Medical Center"
   ]
  },
  {
   "cell_type": "code",
   "execution_count": null,
   "metadata": {},
   "outputs": [],
   "source": []
  },
  {
   "cell_type": "code",
   "execution_count": null,
   "metadata": {},
   "outputs": [],
   "source": []
  },
  {
   "cell_type": "code",
   "execution_count": null,
   "metadata": {},
   "outputs": [],
   "source": [
    "#DISCUSSION   DISCUSSION   DISCUSSION   DISCUSSION  DISCUSSION"
   ]
  },
  {
   "cell_type": "code",
   "execution_count": null,
   "metadata": {},
   "outputs": [],
   "source": [
    "#comparative models explained\n",
    "#we see the R-squared statistic increase as more data is added\n",
    "#we use RMSE as model evaluation metric"
   ]
  },
  {
   "cell_type": "code",
   "execution_count": 513,
   "metadata": {},
   "outputs": [
    {
     "data": {
      "text/plain": [
       "0.9756795572632404"
      ]
     },
     "execution_count": 513,
     "metadata": {},
     "output_type": "execute_result"
    }
   ],
   "source": [
    "#both lm1 and lm2 use only ICU_DAYS to predict\n",
    "#97.57% of data explained by the lm1 model\n",
    "lm1.rsquared"
   ]
  },
  {
   "cell_type": "code",
   "execution_count": 514,
   "metadata": {},
   "outputs": [
    {
     "data": {
      "text/plain": [
       "0.9756795572632404"
      ]
     },
     "execution_count": 514,
     "metadata": {},
     "output_type": "execute_result"
    }
   ],
   "source": [
    "#both lm1 and lm2 use only ICU_DAYS to predict\n",
    "#97.57% of data explained by the lm2 model\n",
    "lm2.score(X2, y2)"
   ]
  },
  {
   "cell_type": "code",
   "execution_count": 515,
   "metadata": {},
   "outputs": [
    {
     "data": {
      "text/plain": [
       "0.9778614856897111"
      ]
     },
     "execution_count": 515,
     "metadata": {},
     "output_type": "execute_result"
    }
   ],
   "source": [
    "#both lm3 and lm4 use all predictors in model\n",
    "#note R-squared statistic increases to 97.79%\n",
    "#as more data is added the R-square goes up\n",
    "lm3.rsquared"
   ]
  },
  {
   "cell_type": "code",
   "execution_count": 516,
   "metadata": {},
   "outputs": [
    {
     "data": {
      "text/plain": [
       "0.9778614856897111"
      ]
     },
     "execution_count": 516,
     "metadata": {},
     "output_type": "execute_result"
    }
   ],
   "source": [
    "#both lm3 and lm4 use all predictors in model\n",
    "#note R-squared statistic increases to 97.79%\n",
    "#as more data is added the R-square goes up\n",
    "lm4.score(X4, y4)"
   ]
  },
  {
   "cell_type": "code",
   "execution_count": 518,
   "metadata": {},
   "outputs": [
    {
     "data": {
      "text/plain": [
       "0.9778603641970607"
      ]
     },
     "execution_count": 518,
     "metadata": {},
     "output_type": "execute_result"
    }
   ],
   "source": [
    "#notice eliminating insignificant predictors from lm5\n",
    "#insignificance is p-value > .05\n",
    "#doesn't improve R-square statistic 97.79%\n",
    "#it goes down a tiny bit as less data is in the model\n",
    "lm5.rsquared"
   ]
  },
  {
   "cell_type": "code",
   "execution_count": 519,
   "metadata": {},
   "outputs": [
    {
     "name": "stdout",
     "output_type": "stream",
     "text": [
      "0.6070117537255889\n"
     ]
    }
   ],
   "source": [
    "#let's look at RMSE in scikit-learn for model evaluation\n",
    "#RMSE with all predictors\n",
    "#interpretation : a range of +-0.60701 calculates model6 error\n",
    "#actual LENGTH_OF_STAY will be less than or greater than 0.60701 of predicted value\n",
    "#for example, if length of stay is predicted to be 5\n",
    "#then actual length of stay could be between 4.39299 and 5.60701\n",
    "print(np.sqrt(metrics.mean_squared_error(y6_test, y6_pred)))"
   ]
  },
  {
   "cell_type": "code",
   "execution_count": 520,
   "metadata": {},
   "outputs": [
    {
     "name": "stdout",
     "output_type": "stream",
     "text": [
      "0.6069997425911373\n"
     ]
    }
   ],
   "source": [
    "#let's look at RMSE in scikit-learn for model evaluation\n",
    "#RMSE without insignificant predictors\n",
    "#insignificance is p-value > .05\n",
    "#interpretation : a range of +-0.60699 calculates model error\n",
    "#actual LENGTH_OF_STAY will be less than or greater than 0.60699 of predicted value\n",
    "#for example, if length of stay is predicted to be 5\n",
    "#then actual length of stay could be between 4.39301 and 5.60699\n",
    "print(np.sqrt(metrics.mean_squared_error(y7_test, y7_pred)))"
   ]
  },
  {
   "cell_type": "code",
   "execution_count": null,
   "metadata": {},
   "outputs": [],
   "source": [
    "#interpretation : .60701 is not very different from .60699\n",
    "#results don't necessarily improve much\n",
    "#when eliminating insignificant variables from the model "
   ]
  },
  {
   "cell_type": "code",
   "execution_count": null,
   "metadata": {},
   "outputs": [],
   "source": []
  },
  {
   "cell_type": "code",
   "execution_count": null,
   "metadata": {},
   "outputs": [],
   "source": []
  },
  {
   "cell_type": "code",
   "execution_count": null,
   "metadata": {},
   "outputs": [],
   "source": [
    "#let's do one last train/test split model with scikit-learn\n",
    "#use RMSE to compare simple and multiple regression models"
   ]
  },
  {
   "cell_type": "code",
   "execution_count": 501,
   "metadata": {},
   "outputs": [],
   "source": [
    "#split data from 2nd linear model \n",
    "#using ICU_DAYS only to predict LENGTH_OF_STAY\n",
    "X8_train, X8_test, y8_train, y8_test = train_test_split(X2, y2, random_state=1)"
   ]
  },
  {
   "cell_type": "code",
   "execution_count": 502,
   "metadata": {},
   "outputs": [],
   "source": [
    "#model\n",
    "lm8 = LinearRegression()"
   ]
  },
  {
   "cell_type": "code",
   "execution_count": 503,
   "metadata": {},
   "outputs": [
    {
     "data": {
      "text/plain": [
       "LinearRegression(copy_X=True, fit_intercept=True, n_jobs=None, normalize=False)"
      ]
     },
     "execution_count": 503,
     "metadata": {},
     "output_type": "execute_result"
    }
   ],
   "source": [
    "#fit model\n",
    "lm8.fit(X8_train, y8_train)"
   ]
  },
  {
   "cell_type": "code",
   "execution_count": 504,
   "metadata": {},
   "outputs": [],
   "source": [
    "#predict\n",
    "y8_pred = lm8.predict(X8_test)"
   ]
  },
  {
   "cell_type": "code",
   "execution_count": 505,
   "metadata": {},
   "outputs": [
    {
     "name": "stdout",
     "output_type": "stream",
     "text": [
      "0.6348641153796373\n"
     ]
    }
   ],
   "source": [
    "#print RMSE\n",
    "print(np.sqrt(metrics.mean_squared_error(y8_test, y8_pred)))"
   ]
  },
  {
   "cell_type": "code",
   "execution_count": 506,
   "metadata": {},
   "outputs": [
    {
     "data": {
      "text/plain": [
       "Text(0, 0.5, 'Predicted Values')"
      ]
     },
     "execution_count": 506,
     "metadata": {},
     "output_type": "execute_result"
    },
    {
     "data": {
      "image/png": "[encoded data removed]",
      "text/plain": [
       "<Figure size 432x288 with 1 Axes>"
      ]
     },
     "metadata": {
      "needs_background": "light"
     },
     "output_type": "display_data"
    }
   ],
   "source": [
    "#scatterplot of residuals\n",
    "#linear relationship of actual vs. predicted looks good\n",
    "plt.scatter(y8_test,y8_pred)\n",
    "plt.xlabel('Y Test (True Values)')\n",
    "plt.ylabel('Predicted Values')"
   ]
  },
  {
   "cell_type": "code",
   "execution_count": 507,
   "metadata": {},
   "outputs": [
    {
     "data": {
      "text/plain": [
       "0.9763155724773738"
      ]
     },
     "execution_count": 507,
     "metadata": {},
     "output_type": "execute_result"
    }
   ],
   "source": [
    "#R-squared statistic\n",
    "metrics.explained_variance_score(y8_test,y8_pred)"
   ]
  },
  {
   "cell_type": "code",
   "execution_count": null,
   "metadata": {},
   "outputs": [],
   "source": [
    "#interpretation\n",
    "#while adding in more predictor variables does improve R-square\n",
    "#the model doesn't improve much in terms of RMSE"
   ]
  },
  {
   "cell_type": "code",
   "execution_count": 521,
   "metadata": {},
   "outputs": [
    {
     "name": "stdout",
     "output_type": "stream",
     "text": [
      "0.6069997425911373\n"
     ]
    }
   ],
   "source": [
    "#smallest RMSE form lm7 eliminating insignificant predictors\n",
    "#insignificance is p-value > .05\n",
    "#interpretation : a range of +-0.60699 calculates model error\n",
    "#actual LENGTH_OF_STAY will be less than or greater than 0.60699 of predicted value\n",
    "#for example, if length of stay is predicted to be 5\n",
    "#then actual length of stay could be between 4.39301 and 5.60699 days\n",
    "#this translates to between 4days 9hrs 26min and 5days 14hrs 34 min\n",
    "#this model has an error with a range of about 17hrs 8min\n",
    "print(np.sqrt(metrics.mean_squared_error(y7_test, y7_pred)))"
   ]
  },
  {
   "cell_type": "code",
   "execution_count": 522,
   "metadata": {},
   "outputs": [
    {
     "name": "stdout",
     "output_type": "stream",
     "text": [
      "0.6348641153796373\n"
     ]
    }
   ],
   "source": [
    "#RMSE from simple linear regression using only ICU_DAYS to predict\n",
    "#interpretation : a range of +-0.63486 calculates model error\n",
    "#actual LENGTH_OF_STAY will be less than or greater than 0.63486 of predicted value\n",
    "#for example, if length of stay is predicted to be 5\n",
    "#then actual length of stay could be between 4.36514 and 5.63486 days\n",
    "#this translates to between 4days 8hrs 45min and 5days 15hrs 20min\n",
    "#this model has an error with a range of about 18hrs 35min\n",
    "print(np.sqrt(metrics.mean_squared_error(y8_test, y8_pred)))"
   ]
  },
  {
   "cell_type": "code",
   "execution_count": null,
   "metadata": {},
   "outputs": [],
   "source": [
    "#conclusion\n",
    "#including more predictive variables beyond ICU_DAYS will yield \n",
    "#an improvement in predicted values of hospital LENGTH_OF_STAY \n",
    "#the model only improves prediction by less than 1.5 hrs sooner\n",
    "#18hrs 35min - 17 hrs 8min = 1hr 27min"
   ]
  },
  {
   "cell_type": "code",
   "execution_count": null,
   "metadata": {},
   "outputs": [],
   "source": [
    "#how to deal with multicollinearity will be illustrated in another project"
   ]
  }
 ],
 "metadata": {
  "kernelspec": {
   "display_name": "Python 3",
   "language": "python",
   "name": "python3"
  },
  "language_info": {
   "codemirror_mode": {
    "name": "ipython",
    "version": 3
   },
   "file_extension": ".py",
   "mimetype": "text/x-python",
   "name": "python",
   "nbconvert_exporter": "python",
   "pygments_lexer": "ipython3",
   "version": "3.7.4"
  }
 },
 "nbformat": 4,
 "nbformat_minor": 2
}
