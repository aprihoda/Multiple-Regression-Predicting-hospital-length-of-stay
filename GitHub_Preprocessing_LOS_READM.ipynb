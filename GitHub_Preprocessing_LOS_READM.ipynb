{
 "cells": [
  {
   "cell_type": "code",
   "execution_count": 48,
   "metadata": {},
   "outputs": [],
   "source": [
    "#imports\n",
    "import pandas as pd\n",
    "import numpy as np\n",
    "import matplotlib.pyplot as plt\n",
    "import seaborn as sns\n",
    "import os"
   ]
  },
  {
   "cell_type": "code",
   "execution_count": 49,
   "metadata": {},
   "outputs": [],
   "source": [
    "#allows plots to appear directly in the notebook\n",
    "%matplotlib inline"
   ]
  },
  {
   "cell_type": "code",
   "execution_count": 50,
   "metadata": {},
   "outputs": [],
   "source": [
    "pd.set_option('display.max_rows', 500)\n",
    "pd.set_option('display.max_columns', 500)\n",
    "pd.set_option('display.width', 1000)"
   ]
  },
  {
   "cell_type": "code",
   "execution_count": 51,
   "metadata": {},
   "outputs": [],
   "source": [
    "#upload data\n",
    "df = pd.read_excel(r\"C:\\Users\\Sierra\\Documents\\los_and_readmission.xlsx\")"
   ]
  },
  {
   "cell_type": "code",
   "execution_count": 53,
   "metadata": {},
   "outputs": [
    {
     "data": {
      "text/plain": [
       "(146606, 40)"
      ]
     },
     "execution_count": 53,
     "metadata": {},
     "output_type": "execute_result"
    }
   ],
   "source": [
    "#shape of data frame\n",
    "df.shape"
   ]
  },
  {
   "cell_type": "code",
   "execution_count": 54,
   "metadata": {},
   "outputs": [
    {
     "name": "stdout",
     "output_type": "stream",
     "text": [
      "<class 'pandas.core.frame.DataFrame'>\n",
      "RangeIndex: 146606 entries, 0 to 146605\n",
      "Data columns (total 40 columns):\n",
      "ENCOUNTER_KEY             146606 non-null int64\n",
      "PATIENT_NUMBER            146606 non-null int64\n",
      "gender                    146606 non-null object\n",
      "race_cd                   146606 non-null object\n",
      "PatientAge                146606 non-null int64\n",
      "Diagnosis_Group           146606 non-null object\n",
      "icd9_target               146606 non-null int64\n",
      "DRG_APR_CODE              146606 non-null object\n",
      "DRG_APR_DESC              146606 non-null object\n",
      "DRG_APR_SEVERITY          146413 non-null float64\n",
      "DIAGNOSIS_SUBCAT_CODE     146606 non-null int64\n",
      "DIAGNOSIS_SUBCAT_DESC     146606 non-null object\n",
      "DIAGNOSIS_ICD_CODE        146606 non-null float64\n",
      "PROCEDURE_SUBCAT_CODE     99875 non-null float64\n",
      "PROCEDURE_SUBCAT_DESC     99875 non-null object\n",
      "PROCEDURE_ICD_CODE        99875 non-null float64\n",
      "DOCTOR                    146606 non-null int64\n",
      "ADMIT_DATE                146606 non-null datetime64[ns]\n",
      "DISCHARGE_DATE            146606 non-null datetime64[ns]\n",
      "readmit_date              22642 non-null datetime64[ns]\n",
      "readmit_discharge_date    22642 non-null datetime64[ns]\n",
      "readmit_days              22642 non-null object\n",
      "LENGTH_OF_STAY            146606 non-null int64\n",
      "ICU_DAYS                  146606 non-null int64\n",
      "DISCHARGED_TO             146606 non-null object\n",
      "op_visits6                146606 non-null int64\n",
      "Standard_Orders_Used      146606 non-null object\n",
      "Num_Chronic_Cond          146413 non-null float64\n",
      "Disch_Nurse_ID            146606 non-null int64\n",
      "admit_month               146606 non-null int64\n",
      "readmit_month             22642 non-null float64\n",
      "order_set_used            146606 non-null int64\n",
      "order_total_charges       146606 non-null int64\n",
      "readmit_number            146606 non-null int64\n",
      "operationcount            146606 non-null int64\n",
      "HOSPITAL                  146606 non-null object\n",
      "ZIP                       146606 non-null int64\n",
      "STATECODE                 146606 non-null object\n",
      "City                      146606 non-null object\n",
      "County_name               146606 non-null object\n",
      "dtypes: datetime64[ns](4), float64(6), int64(16), object(14)\n",
      "memory usage: 44.7+ MB\n"
     ]
    }
   ],
   "source": [
    "#examine columns in data set\n",
    "df.info()"
   ]
  },
  {
   "cell_type": "code",
   "execution_count": 55,
   "metadata": {},
   "outputs": [
    {
     "data": {
      "text/html": [
       "<div>\n",
       "<style scoped>\n",
       "    .dataframe tbody tr th:only-of-type {\n",
       "        vertical-align: middle;\n",
       "    }\n",
       "\n",
       "    .dataframe tbody tr th {\n",
       "        vertical-align: top;\n",
       "    }\n",
       "\n",
       "    .dataframe thead th {\n",
       "        text-align: right;\n",
       "    }\n",
       "</style>\n",
       "<table border=\"1\" class=\"dataframe\">\n",
       "  <thead>\n",
       "    <tr style=\"text-align: right;\">\n",
       "      <th></th>\n",
       "      <th>ENCOUNTER_KEY</th>\n",
       "      <th>PATIENT_NUMBER</th>\n",
       "      <th>gender</th>\n",
       "      <th>race_cd</th>\n",
       "      <th>PatientAge</th>\n",
       "      <th>Diagnosis_Group</th>\n",
       "      <th>icd9_target</th>\n",
       "      <th>DRG_APR_CODE</th>\n",
       "      <th>DRG_APR_DESC</th>\n",
       "      <th>DRG_APR_SEVERITY</th>\n",
       "      <th>DIAGNOSIS_SUBCAT_CODE</th>\n",
       "      <th>DIAGNOSIS_SUBCAT_DESC</th>\n",
       "      <th>DIAGNOSIS_ICD_CODE</th>\n",
       "      <th>PROCEDURE_SUBCAT_CODE</th>\n",
       "      <th>PROCEDURE_SUBCAT_DESC</th>\n",
       "      <th>PROCEDURE_ICD_CODE</th>\n",
       "      <th>DOCTOR</th>\n",
       "      <th>ADMIT_DATE</th>\n",
       "      <th>DISCHARGE_DATE</th>\n",
       "      <th>readmit_date</th>\n",
       "      <th>readmit_discharge_date</th>\n",
       "      <th>readmit_days</th>\n",
       "      <th>LENGTH_OF_STAY</th>\n",
       "      <th>ICU_DAYS</th>\n",
       "      <th>DISCHARGED_TO</th>\n",
       "      <th>op_visits6</th>\n",
       "      <th>Standard_Orders_Used</th>\n",
       "      <th>Num_Chronic_Cond</th>\n",
       "      <th>Disch_Nurse_ID</th>\n",
       "      <th>admit_month</th>\n",
       "      <th>readmit_month</th>\n",
       "      <th>order_set_used</th>\n",
       "      <th>order_total_charges</th>\n",
       "      <th>readmit_number</th>\n",
       "      <th>operationcount</th>\n",
       "      <th>HOSPITAL</th>\n",
       "      <th>ZIP</th>\n",
       "      <th>STATECODE</th>\n",
       "      <th>City</th>\n",
       "      <th>County_name</th>\n",
       "    </tr>\n",
       "  </thead>\n",
       "  <tbody>\n",
       "    <tr>\n",
       "      <td>0</td>\n",
       "      <td>105240011</td>\n",
       "      <td>9921900011</td>\n",
       "      <td>F</td>\n",
       "      <td>White</td>\n",
       "      <td>87</td>\n",
       "      <td>CHF</td>\n",
       "      <td>1</td>\n",
       "      <td>194</td>\n",
       "      <td>HEART FAILURE</td>\n",
       "      <td>2.0</td>\n",
       "      <td>428</td>\n",
       "      <td>HEART FAILURE</td>\n",
       "      <td>428.0</td>\n",
       "      <td>99.0</td>\n",
       "      <td>OTHER NONOPERATIVE PROCE</td>\n",
       "      <td>99.29</td>\n",
       "      <td>311772</td>\n",
       "      <td>2015-05-23</td>\n",
       "      <td>2015-05-26</td>\n",
       "      <td>NaT</td>\n",
       "      <td>NaT</td>\n",
       "      <td>NaN</td>\n",
       "      <td>3</td>\n",
       "      <td>0</td>\n",
       "      <td>ROUTINE DSCHG, HOME</td>\n",
       "      <td>1</td>\n",
       "      <td>Y</td>\n",
       "      <td>2.0</td>\n",
       "      <td>310012</td>\n",
       "      <td>5</td>\n",
       "      <td>NaN</td>\n",
       "      <td>1</td>\n",
       "      <td>33901</td>\n",
       "      <td>0</td>\n",
       "      <td>1</td>\n",
       "      <td>Independence Medical Center</td>\n",
       "      <td>50644</td>\n",
       "      <td>IA</td>\n",
       "      <td>Waterloo</td>\n",
       "      <td>Black Hawk</td>\n",
       "    </tr>\n",
       "    <tr>\n",
       "      <td>1</td>\n",
       "      <td>105240017</td>\n",
       "      <td>9921900017</td>\n",
       "      <td>M</td>\n",
       "      <td>White</td>\n",
       "      <td>67</td>\n",
       "      <td>CHF</td>\n",
       "      <td>1</td>\n",
       "      <td>194</td>\n",
       "      <td>HEART FAILURE</td>\n",
       "      <td>1.0</td>\n",
       "      <td>428</td>\n",
       "      <td>HEART FAILURE</td>\n",
       "      <td>428.0</td>\n",
       "      <td>88.0</td>\n",
       "      <td>OTHER DIAGNOSTIC RADIOLO</td>\n",
       "      <td>88.72</td>\n",
       "      <td>306822</td>\n",
       "      <td>2014-11-19</td>\n",
       "      <td>2014-11-21</td>\n",
       "      <td>NaT</td>\n",
       "      <td>NaT</td>\n",
       "      <td>NaN</td>\n",
       "      <td>2</td>\n",
       "      <td>0</td>\n",
       "      <td>ROUTINE DSCHG, HOME</td>\n",
       "      <td>1</td>\n",
       "      <td>Y</td>\n",
       "      <td>0.0</td>\n",
       "      <td>281540</td>\n",
       "      <td>11</td>\n",
       "      <td>NaN</td>\n",
       "      <td>1</td>\n",
       "      <td>42471</td>\n",
       "      <td>0</td>\n",
       "      <td>1</td>\n",
       "      <td>St. Anthony Medical Center</td>\n",
       "      <td>55406</td>\n",
       "      <td>MN</td>\n",
       "      <td>Minneapolis</td>\n",
       "      <td>Hennepin</td>\n",
       "    </tr>\n",
       "    <tr>\n",
       "      <td>2</td>\n",
       "      <td>105240019</td>\n",
       "      <td>9921900019</td>\n",
       "      <td>M</td>\n",
       "      <td>White</td>\n",
       "      <td>68</td>\n",
       "      <td>CHF</td>\n",
       "      <td>1</td>\n",
       "      <td>194</td>\n",
       "      <td>HEART FAILURE</td>\n",
       "      <td>1.0</td>\n",
       "      <td>428</td>\n",
       "      <td>HEART FAILURE</td>\n",
       "      <td>428.0</td>\n",
       "      <td>88.0</td>\n",
       "      <td>OTHER DIAGNOSTIC RADIOLO</td>\n",
       "      <td>88.72</td>\n",
       "      <td>306822</td>\n",
       "      <td>2014-12-18</td>\n",
       "      <td>2014-12-20</td>\n",
       "      <td>2015-01-19</td>\n",
       "      <td>2015-01-24</td>\n",
       "      <td>08-30</td>\n",
       "      <td>2</td>\n",
       "      <td>0</td>\n",
       "      <td>ROUTINE DSCHG, HOME</td>\n",
       "      <td>0</td>\n",
       "      <td>Y</td>\n",
       "      <td>3.0</td>\n",
       "      <td>290011</td>\n",
       "      <td>12</td>\n",
       "      <td>1.0</td>\n",
       "      <td>1</td>\n",
       "      <td>34959</td>\n",
       "      <td>1</td>\n",
       "      <td>1</td>\n",
       "      <td>St. Anthony Medical Center</td>\n",
       "      <td>55406</td>\n",
       "      <td>MN</td>\n",
       "      <td>Minneapolis</td>\n",
       "      <td>Hennepin</td>\n",
       "    </tr>\n",
       "    <tr>\n",
       "      <td>3</td>\n",
       "      <td>105240021</td>\n",
       "      <td>9921900021</td>\n",
       "      <td>F</td>\n",
       "      <td>White</td>\n",
       "      <td>72</td>\n",
       "      <td>AMI</td>\n",
       "      <td>1</td>\n",
       "      <td>139</td>\n",
       "      <td>OTHER PNEUMONIA</td>\n",
       "      <td>2.0</td>\n",
       "      <td>486</td>\n",
       "      <td>PNEUMONIA ORGANISM UNSP</td>\n",
       "      <td>486.0</td>\n",
       "      <td>45.0</td>\n",
       "      <td>INCISION, EXCISION, AND</td>\n",
       "      <td>45.16</td>\n",
       "      <td>231796</td>\n",
       "      <td>2015-02-01</td>\n",
       "      <td>2015-02-05</td>\n",
       "      <td>NaT</td>\n",
       "      <td>NaT</td>\n",
       "      <td>NaN</td>\n",
       "      <td>4</td>\n",
       "      <td>1</td>\n",
       "      <td>ROUTINE DSCHG, HOME</td>\n",
       "      <td>3</td>\n",
       "      <td>N</td>\n",
       "      <td>1.0</td>\n",
       "      <td>250010</td>\n",
       "      <td>2</td>\n",
       "      <td>NaN</td>\n",
       "      <td>0</td>\n",
       "      <td>28592</td>\n",
       "      <td>0</td>\n",
       "      <td>0</td>\n",
       "      <td>St. Anthony Medical Center</td>\n",
       "      <td>55406</td>\n",
       "      <td>MN</td>\n",
       "      <td>Minneapolis</td>\n",
       "      <td>Hennepin</td>\n",
       "    </tr>\n",
       "    <tr>\n",
       "      <td>4</td>\n",
       "      <td>105240029</td>\n",
       "      <td>9921900029</td>\n",
       "      <td>F</td>\n",
       "      <td>White</td>\n",
       "      <td>75</td>\n",
       "      <td>CHF</td>\n",
       "      <td>1</td>\n",
       "      <td>194</td>\n",
       "      <td>HEART FAILURE</td>\n",
       "      <td>2.0</td>\n",
       "      <td>428</td>\n",
       "      <td>HEART FAILURE</td>\n",
       "      <td>428.3</td>\n",
       "      <td>88.0</td>\n",
       "      <td>OTHER DIAGNOSTIC RADIOLO</td>\n",
       "      <td>88.72</td>\n",
       "      <td>262051</td>\n",
       "      <td>2014-08-14</td>\n",
       "      <td>2014-08-18</td>\n",
       "      <td>NaT</td>\n",
       "      <td>NaT</td>\n",
       "      <td>NaN</td>\n",
       "      <td>4</td>\n",
       "      <td>1</td>\n",
       "      <td>HOME HEALTH AGENCY</td>\n",
       "      <td>2</td>\n",
       "      <td>N</td>\n",
       "      <td>2.0</td>\n",
       "      <td>23009</td>\n",
       "      <td>8</td>\n",
       "      <td>NaN</td>\n",
       "      <td>0</td>\n",
       "      <td>23011</td>\n",
       "      <td>0</td>\n",
       "      <td>0</td>\n",
       "      <td>Hilding-Long Memorial Hospital</td>\n",
       "      <td>56470</td>\n",
       "      <td>MN</td>\n",
       "      <td>Park Rapids</td>\n",
       "      <td>Hubbard</td>\n",
       "    </tr>\n",
       "  </tbody>\n",
       "</table>\n",
       "</div>"
      ],
      "text/plain": [
       "   ENCOUNTER_KEY  PATIENT_NUMBER gender race_cd  PatientAge Diagnosis_Group  icd9_target DRG_APR_CODE     DRG_APR_DESC  DRG_APR_SEVERITY  DIAGNOSIS_SUBCAT_CODE    DIAGNOSIS_SUBCAT_DESC  DIAGNOSIS_ICD_CODE  PROCEDURE_SUBCAT_CODE     PROCEDURE_SUBCAT_DESC  PROCEDURE_ICD_CODE  DOCTOR ADMIT_DATE DISCHARGE_DATE readmit_date readmit_discharge_date readmit_days  LENGTH_OF_STAY  ICU_DAYS        DISCHARGED_TO  op_visits6 Standard_Orders_Used  Num_Chronic_Cond  Disch_Nurse_ID  admit_month  readmit_month  order_set_used  order_total_charges  readmit_number  operationcount                        HOSPITAL    ZIP STATECODE         City County_name\n",
       "0      105240011      9921900011      F   White          87             CHF            1          194    HEART FAILURE               2.0                    428            HEART FAILURE               428.0                   99.0  OTHER NONOPERATIVE PROCE               99.29  311772 2015-05-23     2015-05-26          NaT                    NaT          NaN               3         0  ROUTINE DSCHG, HOME           1                    Y               2.0          310012            5            NaN               1                33901               0               1     Independence Medical Center  50644        IA     Waterloo  Black Hawk\n",
       "1      105240017      9921900017      M   White          67             CHF            1          194    HEART FAILURE               1.0                    428            HEART FAILURE               428.0                   88.0  OTHER DIAGNOSTIC RADIOLO               88.72  306822 2014-11-19     2014-11-21          NaT                    NaT          NaN               2         0  ROUTINE DSCHG, HOME           1                    Y               0.0          281540           11            NaN               1                42471               0               1      St. Anthony Medical Center  55406        MN  Minneapolis    Hennepin\n",
       "2      105240019      9921900019      M   White          68             CHF            1          194    HEART FAILURE               1.0                    428            HEART FAILURE               428.0                   88.0  OTHER DIAGNOSTIC RADIOLO               88.72  306822 2014-12-18     2014-12-20   2015-01-19             2015-01-24        08-30               2         0  ROUTINE DSCHG, HOME           0                    Y               3.0          290011           12            1.0               1                34959               1               1      St. Anthony Medical Center  55406        MN  Minneapolis    Hennepin\n",
       "3      105240021      9921900021      F   White          72             AMI            1          139  OTHER PNEUMONIA               2.0                    486  PNEUMONIA ORGANISM UNSP               486.0                   45.0   INCISION, EXCISION, AND               45.16  231796 2015-02-01     2015-02-05          NaT                    NaT          NaN               4         1  ROUTINE DSCHG, HOME           3                    N               1.0          250010            2            NaN               0                28592               0               0      St. Anthony Medical Center  55406        MN  Minneapolis    Hennepin\n",
       "4      105240029      9921900029      F   White          75             CHF            1          194    HEART FAILURE               2.0                    428            HEART FAILURE               428.3                   88.0  OTHER DIAGNOSTIC RADIOLO               88.72  262051 2014-08-14     2014-08-18          NaT                    NaT          NaN               4         1   HOME HEALTH AGENCY           2                    N               2.0           23009            8            NaN               0                23011               0               0  Hilding-Long Memorial Hospital  56470        MN  Park Rapids     Hubbard"
      ]
     },
     "execution_count": 55,
     "metadata": {},
     "output_type": "execute_result"
    }
   ],
   "source": [
    "#examine first few rows of data\n",
    "df.head()"
   ]
  },
  {
   "cell_type": "code",
   "execution_count": 56,
   "metadata": {},
   "outputs": [
    {
     "data": {
      "text/html": [
       "<div>\n",
       "<style scoped>\n",
       "    .dataframe tbody tr th:only-of-type {\n",
       "        vertical-align: middle;\n",
       "    }\n",
       "\n",
       "    .dataframe tbody tr th {\n",
       "        vertical-align: top;\n",
       "    }\n",
       "\n",
       "    .dataframe thead th {\n",
       "        text-align: right;\n",
       "    }\n",
       "</style>\n",
       "<table border=\"1\" class=\"dataframe\">\n",
       "  <thead>\n",
       "    <tr style=\"text-align: right;\">\n",
       "      <th></th>\n",
       "      <th>ENCOUNTER_KEY</th>\n",
       "      <th>PATIENT_NUMBER</th>\n",
       "      <th>PatientAge</th>\n",
       "      <th>icd9_target</th>\n",
       "      <th>DRG_APR_SEVERITY</th>\n",
       "    </tr>\n",
       "  </thead>\n",
       "  <tbody>\n",
       "    <tr>\n",
       "      <td>count</td>\n",
       "      <td>1.466060e+05</td>\n",
       "      <td>1.466060e+05</td>\n",
       "      <td>146606.000000</td>\n",
       "      <td>146606.000000</td>\n",
       "      <td>146413.000000</td>\n",
       "    </tr>\n",
       "    <tr>\n",
       "      <td>mean</td>\n",
       "      <td>1.053277e+08</td>\n",
       "      <td>9.921988e+09</td>\n",
       "      <td>74.440848</td>\n",
       "      <td>0.876172</td>\n",
       "      <td>2.539945</td>\n",
       "    </tr>\n",
       "    <tr>\n",
       "      <td>std</td>\n",
       "      <td>4.247076e+04</td>\n",
       "      <td>4.247076e+04</td>\n",
       "      <td>13.267879</td>\n",
       "      <td>0.329387</td>\n",
       "      <td>0.746014</td>\n",
       "    </tr>\n",
       "    <tr>\n",
       "      <td>min</td>\n",
       "      <td>1.052400e+08</td>\n",
       "      <td>9.921900e+09</td>\n",
       "      <td>27.000000</td>\n",
       "      <td>0.000000</td>\n",
       "      <td>1.000000</td>\n",
       "    </tr>\n",
       "    <tr>\n",
       "      <td>25%</td>\n",
       "      <td>1.052911e+08</td>\n",
       "      <td>9.921951e+09</td>\n",
       "      <td>69.000000</td>\n",
       "      <td>1.000000</td>\n",
       "      <td>2.000000</td>\n",
       "    </tr>\n",
       "    <tr>\n",
       "      <td>50%</td>\n",
       "      <td>1.053278e+08</td>\n",
       "      <td>9.921988e+09</td>\n",
       "      <td>76.000000</td>\n",
       "      <td>1.000000</td>\n",
       "      <td>3.000000</td>\n",
       "    </tr>\n",
       "    <tr>\n",
       "      <td>75%</td>\n",
       "      <td>1.053644e+08</td>\n",
       "      <td>9.922024e+09</td>\n",
       "      <td>83.000000</td>\n",
       "      <td>1.000000</td>\n",
       "      <td>3.000000</td>\n",
       "    </tr>\n",
       "    <tr>\n",
       "      <td>max</td>\n",
       "      <td>1.054011e+08</td>\n",
       "      <td>9.922061e+09</td>\n",
       "      <td>101.000000</td>\n",
       "      <td>1.000000</td>\n",
       "      <td>4.000000</td>\n",
       "    </tr>\n",
       "  </tbody>\n",
       "</table>\n",
       "</div>"
      ],
      "text/plain": [
       "       ENCOUNTER_KEY  PATIENT_NUMBER     PatientAge    icd9_target  DRG_APR_SEVERITY\n",
       "count   1.466060e+05    1.466060e+05  146606.000000  146606.000000     146413.000000\n",
       "mean    1.053277e+08    9.921988e+09      74.440848       0.876172          2.539945\n",
       "std     4.247076e+04    4.247076e+04      13.267879       0.329387          0.746014\n",
       "min     1.052400e+08    9.921900e+09      27.000000       0.000000          1.000000\n",
       "25%     1.052911e+08    9.921951e+09      69.000000       1.000000          2.000000\n",
       "50%     1.053278e+08    9.921988e+09      76.000000       1.000000          3.000000\n",
       "75%     1.053644e+08    9.922024e+09      83.000000       1.000000          3.000000\n",
       "max     1.054011e+08    9.922061e+09     101.000000       1.000000          4.000000"
      ]
     },
     "execution_count": 56,
     "metadata": {},
     "output_type": "execute_result"
    }
   ],
   "source": [
    "#examine descriptive statistics\n",
    "df[['ENCOUNTER_KEY','PATIENT_NUMBER','PatientAge','icd9_target','DRG_APR_SEVERITY']].describe()"
   ]
  },
  {
   "cell_type": "code",
   "execution_count": 57,
   "metadata": {},
   "outputs": [
    {
     "data": {
      "text/html": [
       "<div>\n",
       "<style scoped>\n",
       "    .dataframe tbody tr th:only-of-type {\n",
       "        vertical-align: middle;\n",
       "    }\n",
       "\n",
       "    .dataframe tbody tr th {\n",
       "        vertical-align: top;\n",
       "    }\n",
       "\n",
       "    .dataframe thead th {\n",
       "        text-align: right;\n",
       "    }\n",
       "</style>\n",
       "<table border=\"1\" class=\"dataframe\">\n",
       "  <thead>\n",
       "    <tr style=\"text-align: right;\">\n",
       "      <th></th>\n",
       "      <th>DIAGNOSIS_SUBCAT_CODE</th>\n",
       "      <th>PROCEDURE_SUBCAT_CODE</th>\n",
       "      <th>DOCTOR</th>\n",
       "      <th>LENGTH_OF_STAY</th>\n",
       "    </tr>\n",
       "  </thead>\n",
       "  <tbody>\n",
       "    <tr>\n",
       "      <td>count</td>\n",
       "      <td>146606.000000</td>\n",
       "      <td>99875.000000</td>\n",
       "      <td>146606.000000</td>\n",
       "      <td>146606.000000</td>\n",
       "    </tr>\n",
       "    <tr>\n",
       "      <td>mean</td>\n",
       "      <td>446.938972</td>\n",
       "      <td>76.542148</td>\n",
       "      <td>268245.745208</td>\n",
       "      <td>5.428925</td>\n",
       "    </tr>\n",
       "    <tr>\n",
       "      <td>std</td>\n",
       "      <td>33.820447</td>\n",
       "      <td>24.928839</td>\n",
       "      <td>37313.516974</td>\n",
       "      <td>4.100839</td>\n",
       "    </tr>\n",
       "    <tr>\n",
       "      <td>min</td>\n",
       "      <td>31.000000</td>\n",
       "      <td>0.000000</td>\n",
       "      <td>201620.000000</td>\n",
       "      <td>1.000000</td>\n",
       "    </tr>\n",
       "    <tr>\n",
       "      <td>25%</td>\n",
       "      <td>428.000000</td>\n",
       "      <td>39.000000</td>\n",
       "      <td>235415.000000</td>\n",
       "      <td>3.000000</td>\n",
       "    </tr>\n",
       "    <tr>\n",
       "      <td>50%</td>\n",
       "      <td>428.000000</td>\n",
       "      <td>88.000000</td>\n",
       "      <td>268058.000000</td>\n",
       "      <td>4.000000</td>\n",
       "    </tr>\n",
       "    <tr>\n",
       "      <td>75%</td>\n",
       "      <td>486.000000</td>\n",
       "      <td>89.000000</td>\n",
       "      <td>297501.000000</td>\n",
       "      <td>7.000000</td>\n",
       "    </tr>\n",
       "    <tr>\n",
       "      <td>max</td>\n",
       "      <td>783.000000</td>\n",
       "      <td>99.000000</td>\n",
       "      <td>344581.000000</td>\n",
       "      <td>32.000000</td>\n",
       "    </tr>\n",
       "  </tbody>\n",
       "</table>\n",
       "</div>"
      ],
      "text/plain": [
       "       DIAGNOSIS_SUBCAT_CODE  PROCEDURE_SUBCAT_CODE         DOCTOR  LENGTH_OF_STAY\n",
       "count          146606.000000           99875.000000  146606.000000   146606.000000\n",
       "mean              446.938972              76.542148  268245.745208        5.428925\n",
       "std                33.820447              24.928839   37313.516974        4.100839\n",
       "min                31.000000               0.000000  201620.000000        1.000000\n",
       "25%               428.000000              39.000000  235415.000000        3.000000\n",
       "50%               428.000000              88.000000  268058.000000        4.000000\n",
       "75%               486.000000              89.000000  297501.000000        7.000000\n",
       "max               783.000000              99.000000  344581.000000       32.000000"
      ]
     },
     "execution_count": 57,
     "metadata": {},
     "output_type": "execute_result"
    }
   ],
   "source": [
    "#examine descriptive statistics\n",
    "df[['DIAGNOSIS_SUBCAT_CODE','PROCEDURE_SUBCAT_CODE','DOCTOR','LENGTH_OF_STAY']].describe()"
   ]
  },
  {
   "cell_type": "code",
   "execution_count": 58,
   "metadata": {},
   "outputs": [
    {
     "data": {
      "text/html": [
       "<div>\n",
       "<style scoped>\n",
       "    .dataframe tbody tr th:only-of-type {\n",
       "        vertical-align: middle;\n",
       "    }\n",
       "\n",
       "    .dataframe tbody tr th {\n",
       "        vertical-align: top;\n",
       "    }\n",
       "\n",
       "    .dataframe thead th {\n",
       "        text-align: right;\n",
       "    }\n",
       "</style>\n",
       "<table border=\"1\" class=\"dataframe\">\n",
       "  <thead>\n",
       "    <tr style=\"text-align: right;\">\n",
       "      <th></th>\n",
       "      <th>ICU_DAYS</th>\n",
       "      <th>op_visits6</th>\n",
       "      <th>Num_Chronic_Cond</th>\n",
       "      <th>Disch_Nurse_ID</th>\n",
       "      <th>admit_month</th>\n",
       "    </tr>\n",
       "  </thead>\n",
       "  <tbody>\n",
       "    <tr>\n",
       "      <td>count</td>\n",
       "      <td>146606.000000</td>\n",
       "      <td>146606.000000</td>\n",
       "      <td>146413.000000</td>\n",
       "      <td>146606.000000</td>\n",
       "      <td>146606.000000</td>\n",
       "    </tr>\n",
       "    <tr>\n",
       "      <td>mean</td>\n",
       "      <td>2.785398</td>\n",
       "      <td>2.464674</td>\n",
       "      <td>1.018550</td>\n",
       "      <td>157374.126925</td>\n",
       "      <td>5.916504</td>\n",
       "    </tr>\n",
       "    <tr>\n",
       "      <td>std</td>\n",
       "      <td>3.832078</td>\n",
       "      <td>2.965829</td>\n",
       "      <td>0.937125</td>\n",
       "      <td>158107.900859</td>\n",
       "      <td>3.635043</td>\n",
       "    </tr>\n",
       "    <tr>\n",
       "      <td>min</td>\n",
       "      <td>0.000000</td>\n",
       "      <td>0.000000</td>\n",
       "      <td>0.000000</td>\n",
       "      <td>1001.000000</td>\n",
       "      <td>1.000000</td>\n",
       "    </tr>\n",
       "    <tr>\n",
       "      <td>25%</td>\n",
       "      <td>0.000000</td>\n",
       "      <td>0.000000</td>\n",
       "      <td>0.000000</td>\n",
       "      <td>13005.000000</td>\n",
       "      <td>3.000000</td>\n",
       "    </tr>\n",
       "    <tr>\n",
       "      <td>50%</td>\n",
       "      <td>2.000000</td>\n",
       "      <td>2.000000</td>\n",
       "      <td>1.000000</td>\n",
       "      <td>100292.000000</td>\n",
       "      <td>5.000000</td>\n",
       "    </tr>\n",
       "    <tr>\n",
       "      <td>75%</td>\n",
       "      <td>4.000000</td>\n",
       "      <td>4.000000</td>\n",
       "      <td>1.000000</td>\n",
       "      <td>310012.000000</td>\n",
       "      <td>10.000000</td>\n",
       "    </tr>\n",
       "    <tr>\n",
       "      <td>max</td>\n",
       "      <td>29.000000</td>\n",
       "      <td>31.000000</td>\n",
       "      <td>4.000000</td>\n",
       "      <td>827298.000000</td>\n",
       "      <td>12.000000</td>\n",
       "    </tr>\n",
       "  </tbody>\n",
       "</table>\n",
       "</div>"
      ],
      "text/plain": [
       "            ICU_DAYS     op_visits6  Num_Chronic_Cond  Disch_Nurse_ID    admit_month\n",
       "count  146606.000000  146606.000000     146413.000000   146606.000000  146606.000000\n",
       "mean        2.785398       2.464674          1.018550   157374.126925       5.916504\n",
       "std         3.832078       2.965829          0.937125   158107.900859       3.635043\n",
       "min         0.000000       0.000000          0.000000     1001.000000       1.000000\n",
       "25%         0.000000       0.000000          0.000000    13005.000000       3.000000\n",
       "50%         2.000000       2.000000          1.000000   100292.000000       5.000000\n",
       "75%         4.000000       4.000000          1.000000   310012.000000      10.000000\n",
       "max        29.000000      31.000000          4.000000   827298.000000      12.000000"
      ]
     },
     "execution_count": 58,
     "metadata": {},
     "output_type": "execute_result"
    }
   ],
   "source": [
    "#examine descriptive statistics\n",
    "df[['ICU_DAYS','op_visits6','Num_Chronic_Cond','Disch_Nurse_ID','admit_month']].describe()"
   ]
  },
  {
   "cell_type": "code",
   "execution_count": 59,
   "metadata": {},
   "outputs": [
    {
     "data": {
      "text/html": [
       "<div>\n",
       "<style scoped>\n",
       "    .dataframe tbody tr th:only-of-type {\n",
       "        vertical-align: middle;\n",
       "    }\n",
       "\n",
       "    .dataframe tbody tr th {\n",
       "        vertical-align: top;\n",
       "    }\n",
       "\n",
       "    .dataframe thead th {\n",
       "        text-align: right;\n",
       "    }\n",
       "</style>\n",
       "<table border=\"1\" class=\"dataframe\">\n",
       "  <thead>\n",
       "    <tr style=\"text-align: right;\">\n",
       "      <th></th>\n",
       "      <th>readmit_month</th>\n",
       "      <th>order_set_used</th>\n",
       "      <th>order_total_charges</th>\n",
       "      <th>readmit_number</th>\n",
       "      <th>operationcount</th>\n",
       "      <th>ZIP</th>\n",
       "    </tr>\n",
       "  </thead>\n",
       "  <tbody>\n",
       "    <tr>\n",
       "      <td>count</td>\n",
       "      <td>22642.000000</td>\n",
       "      <td>146606.000000</td>\n",
       "      <td>146606.000000</td>\n",
       "      <td>146606.000000</td>\n",
       "      <td>146606.000000</td>\n",
       "      <td>146606.000000</td>\n",
       "    </tr>\n",
       "    <tr>\n",
       "      <td>mean</td>\n",
       "      <td>6.142523</td>\n",
       "      <td>0.802511</td>\n",
       "      <td>28723.934020</td>\n",
       "      <td>0.154441</td>\n",
       "      <td>0.787962</td>\n",
       "      <td>55308.679195</td>\n",
       "    </tr>\n",
       "    <tr>\n",
       "      <td>std</td>\n",
       "      <td>3.470503</td>\n",
       "      <td>0.398105</td>\n",
       "      <td>8474.330612</td>\n",
       "      <td>0.361372</td>\n",
       "      <td>0.806079</td>\n",
       "      <td>1141.573432</td>\n",
       "    </tr>\n",
       "    <tr>\n",
       "      <td>min</td>\n",
       "      <td>1.000000</td>\n",
       "      <td>0.000000</td>\n",
       "      <td>-2104.000000</td>\n",
       "      <td>0.000000</td>\n",
       "      <td>0.000000</td>\n",
       "      <td>50644.000000</td>\n",
       "    </tr>\n",
       "    <tr>\n",
       "      <td>25%</td>\n",
       "      <td>3.000000</td>\n",
       "      <td>1.000000</td>\n",
       "      <td>22306.000000</td>\n",
       "      <td>0.000000</td>\n",
       "      <td>0.000000</td>\n",
       "      <td>55406.000000</td>\n",
       "    </tr>\n",
       "    <tr>\n",
       "      <td>50%</td>\n",
       "      <td>6.000000</td>\n",
       "      <td>1.000000</td>\n",
       "      <td>27839.000000</td>\n",
       "      <td>0.000000</td>\n",
       "      <td>1.000000</td>\n",
       "      <td>55406.000000</td>\n",
       "    </tr>\n",
       "    <tr>\n",
       "      <td>75%</td>\n",
       "      <td>9.000000</td>\n",
       "      <td>1.000000</td>\n",
       "      <td>34368.000000</td>\n",
       "      <td>0.000000</td>\n",
       "      <td>1.000000</td>\n",
       "      <td>55437.000000</td>\n",
       "    </tr>\n",
       "    <tr>\n",
       "      <td>max</td>\n",
       "      <td>12.000000</td>\n",
       "      <td>1.000000</td>\n",
       "      <td>67671.000000</td>\n",
       "      <td>1.000000</td>\n",
       "      <td>6.000000</td>\n",
       "      <td>58072.000000</td>\n",
       "    </tr>\n",
       "  </tbody>\n",
       "</table>\n",
       "</div>"
      ],
      "text/plain": [
       "       readmit_month  order_set_used  order_total_charges  readmit_number  operationcount            ZIP\n",
       "count   22642.000000   146606.000000        146606.000000   146606.000000   146606.000000  146606.000000\n",
       "mean        6.142523        0.802511         28723.934020        0.154441        0.787962   55308.679195\n",
       "std         3.470503        0.398105          8474.330612        0.361372        0.806079    1141.573432\n",
       "min         1.000000        0.000000         -2104.000000        0.000000        0.000000   50644.000000\n",
       "25%         3.000000        1.000000         22306.000000        0.000000        0.000000   55406.000000\n",
       "50%         6.000000        1.000000         27839.000000        0.000000        1.000000   55406.000000\n",
       "75%         9.000000        1.000000         34368.000000        0.000000        1.000000   55437.000000\n",
       "max        12.000000        1.000000         67671.000000        1.000000        6.000000   58072.000000"
      ]
     },
     "execution_count": 59,
     "metadata": {},
     "output_type": "execute_result"
    }
   ],
   "source": [
    "#examine descriptive statistics\n",
    "df[['readmit_month','order_set_used','order_total_charges','readmit_number','operationcount','ZIP']].describe()"
   ]
  },
  {
   "cell_type": "code",
   "execution_count": 60,
   "metadata": {},
   "outputs": [],
   "source": [
    "#drop uselss and data leakage into the future numeric columns\n",
    "df.drop(['ENCOUNTER_KEY','PATIENT_NUMBER','icd9_target','DOCTOR','Disch_Nurse_ID','readmit_month',\n",
    "'order_total_charges','readmit_number','ZIP'], inplace = True, axis = 1)"
   ]
  },
  {
   "cell_type": "code",
   "execution_count": 61,
   "metadata": {},
   "outputs": [
    {
     "data": {
      "text/html": [
       "<div>\n",
       "<style scoped>\n",
       "    .dataframe tbody tr th:only-of-type {\n",
       "        vertical-align: middle;\n",
       "    }\n",
       "\n",
       "    .dataframe tbody tr th {\n",
       "        vertical-align: top;\n",
       "    }\n",
       "\n",
       "    .dataframe thead th {\n",
       "        text-align: right;\n",
       "    }\n",
       "</style>\n",
       "<table border=\"1\" class=\"dataframe\">\n",
       "  <thead>\n",
       "    <tr style=\"text-align: right;\">\n",
       "      <th></th>\n",
       "      <th>PatientAge</th>\n",
       "      <th>DRG_APR_SEVERITY</th>\n",
       "      <th>DIAGNOSIS_SUBCAT_CODE</th>\n",
       "      <th>DIAGNOSIS_ICD_CODE</th>\n",
       "      <th>PROCEDURE_SUBCAT_CODE</th>\n",
       "      <th>PROCEDURE_ICD_CODE</th>\n",
       "      <th>LENGTH_OF_STAY</th>\n",
       "      <th>ICU_DAYS</th>\n",
       "      <th>op_visits6</th>\n",
       "      <th>Num_Chronic_Cond</th>\n",
       "      <th>admit_month</th>\n",
       "      <th>order_set_used</th>\n",
       "      <th>operationcount</th>\n",
       "    </tr>\n",
       "  </thead>\n",
       "  <tbody>\n",
       "    <tr>\n",
       "      <td>PatientAge</td>\n",
       "      <td>1.000000</td>\n",
       "      <td>0.019316</td>\n",
       "      <td>-0.023399</td>\n",
       "      <td>-0.023311</td>\n",
       "      <td>0.015013</td>\n",
       "      <td>0.014747</td>\n",
       "      <td>-0.005383</td>\n",
       "      <td>-0.007687</td>\n",
       "      <td>0.013638</td>\n",
       "      <td>-0.027101</td>\n",
       "      <td>-0.023886</td>\n",
       "      <td>0.027166</td>\n",
       "      <td>-0.007898</td>\n",
       "    </tr>\n",
       "    <tr>\n",
       "      <td>DRG_APR_SEVERITY</td>\n",
       "      <td>0.019316</td>\n",
       "      <td>1.000000</td>\n",
       "      <td>-0.005591</td>\n",
       "      <td>-0.005804</td>\n",
       "      <td>-0.187127</td>\n",
       "      <td>-0.186313</td>\n",
       "      <td>0.234020</td>\n",
       "      <td>0.229224</td>\n",
       "      <td>0.023032</td>\n",
       "      <td>-0.013398</td>\n",
       "      <td>-0.050489</td>\n",
       "      <td>-0.001746</td>\n",
       "      <td>-0.007982</td>\n",
       "    </tr>\n",
       "    <tr>\n",
       "      <td>DIAGNOSIS_SUBCAT_CODE</td>\n",
       "      <td>-0.023399</td>\n",
       "      <td>-0.005591</td>\n",
       "      <td>1.000000</td>\n",
       "      <td>0.999981</td>\n",
       "      <td>-0.196678</td>\n",
       "      <td>-0.199526</td>\n",
       "      <td>-0.005533</td>\n",
       "      <td>0.018182</td>\n",
       "      <td>-0.010198</td>\n",
       "      <td>-0.064415</td>\n",
       "      <td>-0.014885</td>\n",
       "      <td>-0.031455</td>\n",
       "      <td>-0.040662</td>\n",
       "    </tr>\n",
       "    <tr>\n",
       "      <td>DIAGNOSIS_ICD_CODE</td>\n",
       "      <td>-0.023311</td>\n",
       "      <td>-0.005804</td>\n",
       "      <td>0.999981</td>\n",
       "      <td>1.000000</td>\n",
       "      <td>-0.196403</td>\n",
       "      <td>-0.199249</td>\n",
       "      <td>-0.005299</td>\n",
       "      <td>0.018440</td>\n",
       "      <td>-0.010270</td>\n",
       "      <td>-0.064712</td>\n",
       "      <td>-0.014845</td>\n",
       "      <td>-0.031316</td>\n",
       "      <td>-0.040702</td>\n",
       "    </tr>\n",
       "    <tr>\n",
       "      <td>PROCEDURE_SUBCAT_CODE</td>\n",
       "      <td>0.015013</td>\n",
       "      <td>-0.187127</td>\n",
       "      <td>-0.196678</td>\n",
       "      <td>-0.196403</td>\n",
       "      <td>1.000000</td>\n",
       "      <td>0.999950</td>\n",
       "      <td>-0.127479</td>\n",
       "      <td>-0.139628</td>\n",
       "      <td>-0.005806</td>\n",
       "      <td>0.021335</td>\n",
       "      <td>-0.019895</td>\n",
       "      <td>0.004383</td>\n",
       "      <td>-0.011674</td>\n",
       "    </tr>\n",
       "    <tr>\n",
       "      <td>PROCEDURE_ICD_CODE</td>\n",
       "      <td>0.014747</td>\n",
       "      <td>-0.186313</td>\n",
       "      <td>-0.199526</td>\n",
       "      <td>-0.199249</td>\n",
       "      <td>0.999950</td>\n",
       "      <td>1.000000</td>\n",
       "      <td>-0.126662</td>\n",
       "      <td>-0.138893</td>\n",
       "      <td>-0.005237</td>\n",
       "      <td>0.021482</td>\n",
       "      <td>-0.019615</td>\n",
       "      <td>0.004550</td>\n",
       "      <td>-0.011677</td>\n",
       "    </tr>\n",
       "    <tr>\n",
       "      <td>LENGTH_OF_STAY</td>\n",
       "      <td>-0.005383</td>\n",
       "      <td>0.234020</td>\n",
       "      <td>-0.005533</td>\n",
       "      <td>-0.005299</td>\n",
       "      <td>-0.127479</td>\n",
       "      <td>-0.126662</td>\n",
       "      <td>1.000000</td>\n",
       "      <td>0.987734</td>\n",
       "      <td>-0.012299</td>\n",
       "      <td>-0.013406</td>\n",
       "      <td>0.062783</td>\n",
       "      <td>-0.127037</td>\n",
       "      <td>-0.017664</td>\n",
       "    </tr>\n",
       "    <tr>\n",
       "      <td>ICU_DAYS</td>\n",
       "      <td>-0.007687</td>\n",
       "      <td>0.229224</td>\n",
       "      <td>0.018182</td>\n",
       "      <td>0.018440</td>\n",
       "      <td>-0.139628</td>\n",
       "      <td>-0.138893</td>\n",
       "      <td>0.987734</td>\n",
       "      <td>1.000000</td>\n",
       "      <td>-0.007774</td>\n",
       "      <td>-0.013060</td>\n",
       "      <td>0.070337</td>\n",
       "      <td>-0.118916</td>\n",
       "      <td>-0.021069</td>\n",
       "    </tr>\n",
       "    <tr>\n",
       "      <td>op_visits6</td>\n",
       "      <td>0.013638</td>\n",
       "      <td>0.023032</td>\n",
       "      <td>-0.010198</td>\n",
       "      <td>-0.010270</td>\n",
       "      <td>-0.005806</td>\n",
       "      <td>-0.005237</td>\n",
       "      <td>-0.012299</td>\n",
       "      <td>-0.007774</td>\n",
       "      <td>1.000000</td>\n",
       "      <td>0.042236</td>\n",
       "      <td>-0.001281</td>\n",
       "      <td>-0.002983</td>\n",
       "      <td>0.056093</td>\n",
       "    </tr>\n",
       "    <tr>\n",
       "      <td>Num_Chronic_Cond</td>\n",
       "      <td>-0.027101</td>\n",
       "      <td>-0.013398</td>\n",
       "      <td>-0.064415</td>\n",
       "      <td>-0.064712</td>\n",
       "      <td>0.021335</td>\n",
       "      <td>0.021482</td>\n",
       "      <td>-0.013406</td>\n",
       "      <td>-0.013060</td>\n",
       "      <td>0.042236</td>\n",
       "      <td>1.000000</td>\n",
       "      <td>0.060646</td>\n",
       "      <td>-0.032351</td>\n",
       "      <td>-0.005256</td>\n",
       "    </tr>\n",
       "    <tr>\n",
       "      <td>admit_month</td>\n",
       "      <td>-0.023886</td>\n",
       "      <td>-0.050489</td>\n",
       "      <td>-0.014885</td>\n",
       "      <td>-0.014845</td>\n",
       "      <td>-0.019895</td>\n",
       "      <td>-0.019615</td>\n",
       "      <td>0.062783</td>\n",
       "      <td>0.070337</td>\n",
       "      <td>-0.001281</td>\n",
       "      <td>0.060646</td>\n",
       "      <td>1.000000</td>\n",
       "      <td>-0.016735</td>\n",
       "      <td>-0.011103</td>\n",
       "    </tr>\n",
       "    <tr>\n",
       "      <td>order_set_used</td>\n",
       "      <td>0.027166</td>\n",
       "      <td>-0.001746</td>\n",
       "      <td>-0.031455</td>\n",
       "      <td>-0.031316</td>\n",
       "      <td>0.004383</td>\n",
       "      <td>0.004550</td>\n",
       "      <td>-0.127037</td>\n",
       "      <td>-0.118916</td>\n",
       "      <td>-0.002983</td>\n",
       "      <td>-0.032351</td>\n",
       "      <td>-0.016735</td>\n",
       "      <td>1.000000</td>\n",
       "      <td>0.007501</td>\n",
       "    </tr>\n",
       "    <tr>\n",
       "      <td>operationcount</td>\n",
       "      <td>-0.007898</td>\n",
       "      <td>-0.007982</td>\n",
       "      <td>-0.040662</td>\n",
       "      <td>-0.040702</td>\n",
       "      <td>-0.011674</td>\n",
       "      <td>-0.011677</td>\n",
       "      <td>-0.017664</td>\n",
       "      <td>-0.021069</td>\n",
       "      <td>0.056093</td>\n",
       "      <td>-0.005256</td>\n",
       "      <td>-0.011103</td>\n",
       "      <td>0.007501</td>\n",
       "      <td>1.000000</td>\n",
       "    </tr>\n",
       "  </tbody>\n",
       "</table>\n",
       "</div>"
      ],
      "text/plain": [
       "                       PatientAge  DRG_APR_SEVERITY  DIAGNOSIS_SUBCAT_CODE  DIAGNOSIS_ICD_CODE  PROCEDURE_SUBCAT_CODE  PROCEDURE_ICD_CODE  LENGTH_OF_STAY  ICU_DAYS  op_visits6  Num_Chronic_Cond  admit_month  order_set_used  operationcount\n",
       "PatientAge               1.000000          0.019316              -0.023399           -0.023311               0.015013            0.014747       -0.005383 -0.007687    0.013638         -0.027101    -0.023886        0.027166       -0.007898\n",
       "DRG_APR_SEVERITY         0.019316          1.000000              -0.005591           -0.005804              -0.187127           -0.186313        0.234020  0.229224    0.023032         -0.013398    -0.050489       -0.001746       -0.007982\n",
       "DIAGNOSIS_SUBCAT_CODE   -0.023399         -0.005591               1.000000            0.999981              -0.196678           -0.199526       -0.005533  0.018182   -0.010198         -0.064415    -0.014885       -0.031455       -0.040662\n",
       "DIAGNOSIS_ICD_CODE      -0.023311         -0.005804               0.999981            1.000000              -0.196403           -0.199249       -0.005299  0.018440   -0.010270         -0.064712    -0.014845       -0.031316       -0.040702\n",
       "PROCEDURE_SUBCAT_CODE    0.015013         -0.187127              -0.196678           -0.196403               1.000000            0.999950       -0.127479 -0.139628   -0.005806          0.021335    -0.019895        0.004383       -0.011674\n",
       "PROCEDURE_ICD_CODE       0.014747         -0.186313              -0.199526           -0.199249               0.999950            1.000000       -0.126662 -0.138893   -0.005237          0.021482    -0.019615        0.004550       -0.011677\n",
       "LENGTH_OF_STAY          -0.005383          0.234020              -0.005533           -0.005299              -0.127479           -0.126662        1.000000  0.987734   -0.012299         -0.013406     0.062783       -0.127037       -0.017664\n",
       "ICU_DAYS                -0.007687          0.229224               0.018182            0.018440              -0.139628           -0.138893        0.987734  1.000000   -0.007774         -0.013060     0.070337       -0.118916       -0.021069\n",
       "op_visits6               0.013638          0.023032              -0.010198           -0.010270              -0.005806           -0.005237       -0.012299 -0.007774    1.000000          0.042236    -0.001281       -0.002983        0.056093\n",
       "Num_Chronic_Cond        -0.027101         -0.013398              -0.064415           -0.064712               0.021335            0.021482       -0.013406 -0.013060    0.042236          1.000000     0.060646       -0.032351       -0.005256\n",
       "admit_month             -0.023886         -0.050489              -0.014885           -0.014845              -0.019895           -0.019615        0.062783  0.070337   -0.001281          0.060646     1.000000       -0.016735       -0.011103\n",
       "order_set_used           0.027166         -0.001746              -0.031455           -0.031316               0.004383            0.004550       -0.127037 -0.118916   -0.002983         -0.032351    -0.016735        1.000000        0.007501\n",
       "operationcount          -0.007898         -0.007982              -0.040662           -0.040702              -0.011674           -0.011677       -0.017664 -0.021069    0.056093         -0.005256    -0.011103        0.007501        1.000000"
      ]
     },
     "execution_count": 61,
     "metadata": {},
     "output_type": "execute_result"
    }
   ],
   "source": [
    "#check for linear relationships among columns\n",
    "#note strong correlation between LENGTH_OF_STAY and ICU_DAYS\n",
    "df.corr()"
   ]
  },
  {
   "cell_type": "code",
   "execution_count": 62,
   "metadata": {},
   "outputs": [
    {
     "data": {
      "text/plain": [
       "0.9877336804958825"
      ]
     },
     "execution_count": 62,
     "metadata": {},
     "output_type": "execute_result"
    }
   ],
   "source": [
    "#printed : strong correlation between LENGTH_OF_STAY and ICU_DAYS\n",
    "df['LENGTH_OF_STAY'].corr(df['ICU_DAYS'])"
   ]
  },
  {
   "cell_type": "code",
   "execution_count": 63,
   "metadata": {},
   "outputs": [
    {
     "data": {
      "text/plain": [
       "{'F': 83002, 'M': 63604}"
      ]
     },
     "execution_count": 63,
     "metadata": {},
     "output_type": "execute_result"
    }
   ],
   "source": [
    "#check values and counts of column\n",
    "df['gender'].value_counts().to_dict()"
   ]
  },
  {
   "cell_type": "code",
   "execution_count": 64,
   "metadata": {},
   "outputs": [
    {
     "data": {
      "text/plain": [
       "{'White': 125231, 'Black': 13849, 'Others': 7526}"
      ]
     },
     "execution_count": 64,
     "metadata": {},
     "output_type": "execute_result"
    }
   ],
   "source": [
    "#check values and counts of column\n",
    "df['race_cd'].value_counts().to_dict()"
   ]
  },
  {
   "cell_type": "code",
   "execution_count": 65,
   "metadata": {},
   "outputs": [
    {
     "data": {
      "text/plain": [
       "{'CHF': 95270, 'AMI': 40143, 'COPD': 11193}"
      ]
     },
     "execution_count": 65,
     "metadata": {},
     "output_type": "execute_result"
    }
   ],
   "source": [
    "#check values and counts of column\n",
    "df['Diagnosis_Group'].value_counts().to_dict()"
   ]
  },
  {
   "cell_type": "code",
   "execution_count": 66,
   "metadata": {},
   "outputs": [
    {
     "data": {
      "text/plain": [
       "{'HEART FAILURE': 87828,\n",
       " 'PNEUMONIA ORGANISM UNSP': 32531,\n",
       " 'CHRONIC BRONCHITIS': 7761,\n",
       " 'OTHER BACTERIAL PNEUMONI': 3763,\n",
       " 'PNEUMOCOCCAL PNEUMONIA': 2985,\n",
       " 'HYPERTENSIVE HEART AND C': 2904,\n",
       " 'HYPERTENSIVE HEART DISEA': 1744,\n",
       " 'OTHER RHEUMATIC HEART DI': 1635,\n",
       " 'ASTHMA': 1159,\n",
       " 'BRONCHIECTASIS': 1016,\n",
       " 'EMPHYSEMA': 820,\n",
       " 'VIRAL PNEUMONIA': 576,\n",
       " 'ACUTE MYOCARDIAL INFARCT': 481,\n",
       " 'CHRONIC AIRWAY OBSTRUCTI': 388,\n",
       " 'CHRONIC Hosp 46 HEART': 291,\n",
       " 'PNEUMONIA DUE TO OTHER S': 192,\n",
       " 'SYMPTOMS CONCERNING NUTR': 98,\n",
       " 'SEPTICEMIA': 97,\n",
       " 'OTHER AND UNSPECIFIED DI': 97,\n",
       " 'BRONCHOPNEUMONIA ORGANI': 96,\n",
       " 'DISORDERS OF FLUID ELEC': 95,\n",
       " 'DISEASES DUE TO OTHER MY': 49}"
      ]
     },
     "execution_count": 66,
     "metadata": {},
     "output_type": "execute_result"
    }
   ],
   "source": [
    "#check values and counts of column\n",
    "df['DIAGNOSIS_SUBCAT_DESC'].value_counts().to_dict()"
   ]
  },
  {
   "cell_type": "code",
   "execution_count": 67,
   "metadata": {},
   "outputs": [
    {
     "data": {
      "text/plain": [
       "22"
      ]
     },
     "execution_count": 67,
     "metadata": {},
     "output_type": "execute_result"
    }
   ],
   "source": [
    "#notice DIAGNOSIS_SUBCAT_DESC and DIAGNOSIS_SUBCAT_CODE have same number of unique values\n",
    "len(df['DIAGNOSIS_SUBCAT_DESC'].unique())"
   ]
  },
  {
   "cell_type": "code",
   "execution_count": 68,
   "metadata": {},
   "outputs": [
    {
     "data": {
      "text/plain": [
       "22"
      ]
     },
     "execution_count": 68,
     "metadata": {},
     "output_type": "execute_result"
    }
   ],
   "source": [
    "len(df['DIAGNOSIS_SUBCAT_CODE'].unique())"
   ]
  },
  {
   "cell_type": "code",
   "execution_count": 69,
   "metadata": {},
   "outputs": [
    {
     "data": {
      "text/plain": [
       "{'HEART FAILURE': 93725,\n",
       " 'OTHER PNEUMONIA': 34636,\n",
       " 'CHRONIC OBSTRUCTIVE Hosp 46 DISEASE': 9611,\n",
       " 'MAJOR RESPIRATORY INFECTIONS & INFLAMMATIONS': 2271,\n",
       " 'CYSTIC FIBROSIS - Hosp 46 DISEASE': 2012,\n",
       " 'RESPIRATORY SYSTEM DIAGNOSIS W VENTILATOR SUPPORT 96+ HOURS': 961,\n",
       " 'ACUTE MYOCARDIAL INFARCTION': 481,\n",
       " 'HIV W MAJOR HIV RELATED CONDITION': 390,\n",
       " 'HIV W ONE SIGNIF HIV COND OR W/O SIGNIF RELATED COND': 389,\n",
       " 'OTHER CIRCULATORY SYSTEM DIAGNOSES': 291,\n",
       " 'OTHER RESPIRATORY & CHEST PROCEDURES': 290,\n",
       " 'NODATA': 193,\n",
       " 'TRACHEOSTOMY W LONG TERM MECHANICAL VENTILATION W/O EXTENSIVE PROCEDUR': 193,\n",
       " 'CARDIAC CATHETERIZATION W CIRC DISORD EXC ISCHEMIC HEART DISEASE': 193,\n",
       " 'BPD & OTH CHRONIC RESPIRATORY DISEASES ARISING IN PERINATAL PERIOD': 98,\n",
       " 'MALNUTRITION, FAILURE TO THRIVE & OTHER NUTRITIONAL DISORDERS': 98,\n",
       " 'EXTENSIVE PROCEDURE UNRELATED TO PRINCIPAL DIAGNOSIS': 98,\n",
       " 'BRONCHIOLITIS & RSV PNEUMONIA': 97,\n",
       " 'CONNECTIVE TISSUE DISORDERS': 97,\n",
       " 'MAJOR RESPIRATORY & CHEST PROCEDURES': 97,\n",
       " 'MODERATELY EXTENSIVE PROCEDURE UNRELATED TO PRINCIPAL DIAGNOSIS': 97,\n",
       " 'SEPTICEMIA & DISSEMINATED INFECTIONS': 97,\n",
       " 'TRACHEOSTOMY W LONG TERM MECHANICAL VENTILATION W EXTENSIVE PROCEDURE': 96,\n",
       " 'ELECTROLYTE DISORDERS EXCEPT HYPOVOLEMIA RELATED': 95}"
      ]
     },
     "execution_count": 69,
     "metadata": {},
     "output_type": "execute_result"
    }
   ],
   "source": [
    "#check values and counts of column\n",
    "df['DRG_APR_DESC'].value_counts().to_dict()"
   ]
  },
  {
   "cell_type": "code",
   "execution_count": 70,
   "metadata": {},
   "outputs": [
    {
     "data": {
      "text/plain": [
       "24"
      ]
     },
     "execution_count": 70,
     "metadata": {},
     "output_type": "execute_result"
    }
   ],
   "source": [
    "#notice DIAGNOSIS_SUBCAT_DESC and DIAGNOSIS_SUBCAT_CODE have same number of unique values\n",
    "len(df['DRG_APR_DESC'].unique())"
   ]
  },
  {
   "cell_type": "code",
   "execution_count": 71,
   "metadata": {},
   "outputs": [
    {
     "data": {
      "text/plain": [
       "24"
      ]
     },
     "execution_count": 71,
     "metadata": {},
     "output_type": "execute_result"
    }
   ],
   "source": [
    "len(df['DRG_APR_CODE'].unique())"
   ]
  },
  {
   "cell_type": "code",
   "execution_count": 72,
   "metadata": {},
   "outputs": [
    {
     "data": {
      "text/plain": [
       "{'194': 93725,\n",
       " '139': 34636,\n",
       " '140': 9611,\n",
       " '137': 2271,\n",
       " '131': 2012,\n",
       " '130': 961,\n",
       " '190': 481,\n",
       " '892': 390,\n",
       " '894': 389,\n",
       " '207': 291,\n",
       " '121': 290,\n",
       " '191': 193,\n",
       " '005': 193,\n",
       " '@@@@@': 193,\n",
       " '421': 98,\n",
       " '132': 98,\n",
       " '950': 98,\n",
       " '951': 97,\n",
       " '120': 97,\n",
       " '138': 97,\n",
       " '720': 97,\n",
       " '346': 97,\n",
       " '004': 96,\n",
       " '425': 95}"
      ]
     },
     "execution_count": 72,
     "metadata": {},
     "output_type": "execute_result"
    }
   ],
   "source": [
    "#notice DRG_APR_CODE is not stored as numeric due to @@@@@\n",
    "#no need to fix since it is a duplicate of DRG_APR_DESC\n",
    "df['DRG_APR_CODE'].value_counts().to_dict()"
   ]
  },
  {
   "cell_type": "code",
   "execution_count": 73,
   "metadata": {},
   "outputs": [
    {
     "data": {
      "text/plain": [
       "{'OTHER DIAGNOSTIC RADIOLO': 47026,\n",
       " 'OTHER NONOPERATIVE PROCE': 17120,\n",
       " 'INCISION, EXCISION, AND': 11635,\n",
       " 'OTHER OPERATIONS ON VESS': 5154,\n",
       " 'NONOPERATIVE INTUBATION': 5016,\n",
       " 'OTHER OPERATIONS ON LUNG': 4053,\n",
       " 'OPERATIONS ON CHEST WALL': 2462,\n",
       " 'INTERVIEW, EVALUATION, C': 2310,\n",
       " 'OTHER OPERATIONS ON HEAR': 821,\n",
       " 'NUCLEAR MEDICINE': 811,\n",
       " 'OPERATIONS ON SPINAL COR': 578,\n",
       " 'PROCEDURES RELATED TO TH': 383,\n",
       " 'OTHER OPERATIONS ON LARY': 336,\n",
       " 'OTHER OPERATIONS ON ABDO': 293,\n",
       " 'OPERATIONS ON BONE MARRO': 288,\n",
       " 'OPERATIONS ON SKIN AND S': 285,\n",
       " 'OPERATIONS ON NOSE': 195,\n",
       " 'REPAIR AND PLASTIC OPERA': 193,\n",
       " 'PROCEDURES AND INTERVENT': 192,\n",
       " 'INCISION AND EXCISION OF': 146,\n",
       " 'REPLACEMENT AND REMOVAL': 98,\n",
       " 'OPERATIONS ON RECTUM REC': 97,\n",
       " 'OPERATIONS ON LYMPHATIC': 97,\n",
       " 'OTHER OPERATIONS ON TEET': 96,\n",
       " 'OPERATIONS ON ANUS': 96,\n",
       " 'OPERATIONS ON LIVER': 94}"
      ]
     },
     "execution_count": 73,
     "metadata": {},
     "output_type": "execute_result"
    }
   ],
   "source": [
    "#check values and counts of column\n",
    "df['PROCEDURE_SUBCAT_DESC'].value_counts().to_dict()"
   ]
  },
  {
   "cell_type": "code",
   "execution_count": 74,
   "metadata": {},
   "outputs": [
    {
     "data": {
      "text/plain": [
       "27"
      ]
     },
     "execution_count": 74,
     "metadata": {},
     "output_type": "execute_result"
    }
   ],
   "source": [
    "#notice PROCEDURE_SUBCAT_DESC and PROCEDURE_SUBCAT_CODE have almost same number of unique values\n",
    "len(df['PROCEDURE_SUBCAT_DESC'].unique())"
   ]
  },
  {
   "cell_type": "code",
   "execution_count": 75,
   "metadata": {},
   "outputs": [
    {
     "data": {
      "text/plain": [
       "28"
      ]
     },
     "execution_count": 75,
     "metadata": {},
     "output_type": "execute_result"
    }
   ],
   "source": [
    "len(df['PROCEDURE_SUBCAT_CODE'].unique())"
   ]
  },
  {
   "cell_type": "code",
   "execution_count": 76,
   "metadata": {},
   "outputs": [
    {
     "data": {
      "text/plain": [
       "317"
      ]
     },
     "execution_count": 76,
     "metadata": {},
     "output_type": "execute_result"
    }
   ],
   "source": [
    "#notice ADMIT_DATE has too many unique values to examine count of each\n",
    "len(df['ADMIT_DATE'].unique())"
   ]
  },
  {
   "cell_type": "code",
   "execution_count": 77,
   "metadata": {},
   "outputs": [
    {
     "data": {
      "text/plain": [
       "{'Y': 117653, 'N': 28953}"
      ]
     },
     "execution_count": 77,
     "metadata": {},
     "output_type": "execute_result"
    }
   ],
   "source": [
    "#check values and counts for column\n",
    "df['Standard_Orders_Used'].value_counts().to_dict()"
   ]
  },
  {
   "cell_type": "code",
   "execution_count": 78,
   "metadata": {},
   "outputs": [
    {
     "data": {
      "text/plain": [
       "{'St. Anthony Medical Center': 69577,\n",
       " 'Mercy Hospital': 34840,\n",
       " 'Hilding-Long Memorial Hospital': 18109,\n",
       " 'Oxbow Regional Hospital': 9133,\n",
       " 'Independence Medical Center': 5787,\n",
       " 'Superior-Parkland Hospital': 5113,\n",
       " 'Valley City Regional Hospital': 2601,\n",
       " 'Delaware County Hospital': 1446}"
      ]
     },
     "execution_count": 78,
     "metadata": {},
     "output_type": "execute_result"
    }
   ],
   "source": [
    "#check values and counts for column\n",
    "df['HOSPITAL'].value_counts().to_dict()"
   ]
  },
  {
   "cell_type": "code",
   "execution_count": 79,
   "metadata": {},
   "outputs": [
    {
     "data": {
      "text/plain": [
       "{'MN': 122526, 'WI': 14246, 'IA': 7233, 'ND': 2601}"
      ]
     },
     "execution_count": 79,
     "metadata": {},
     "output_type": "execute_result"
    }
   ],
   "source": [
    "#check values and counts for column\n",
    "df['STATECODE'].value_counts().to_dict()"
   ]
  },
  {
   "cell_type": "code",
   "execution_count": 80,
   "metadata": {},
   "outputs": [
    {
     "data": {
      "text/plain": [
       "{'Minneapolis': 69577,\n",
       " 'Bloomington': 34840,\n",
       " 'Park Rapids': 18109,\n",
       " 'Eau Claire': 9133,\n",
       " 'Waterloo': 5787,\n",
       " 'Parkland': 5113,\n",
       " 'Valley City': 2601,\n",
       " 'Manchester': 1446}"
      ]
     },
     "execution_count": 80,
     "metadata": {},
     "output_type": "execute_result"
    }
   ],
   "source": [
    "#check values and counts for column\n",
    "df['City'].value_counts().to_dict()"
   ]
  },
  {
   "cell_type": "code",
   "execution_count": 81,
   "metadata": {},
   "outputs": [
    {
     "data": {
      "text/plain": [
       "{'Hennepin': 104417,\n",
       " 'Hubbard': 18109,\n",
       " 'Eau Claire': 9133,\n",
       " 'Black Hawk': 5787,\n",
       " 'Douglas': 5113,\n",
       " 'Barnes': 2601,\n",
       " 'Delaware': 1446}"
      ]
     },
     "execution_count": 81,
     "metadata": {},
     "output_type": "execute_result"
    }
   ],
   "source": [
    "#check values and counts for column\n",
    "df['County_name'].value_counts().to_dict()"
   ]
  },
  {
   "cell_type": "code",
   "execution_count": 82,
   "metadata": {},
   "outputs": [],
   "source": [
    "#drop columns with data leakage into the future\n",
    "#drop redundant and useless columns\n",
    "df.drop(['Diagnosis_Group','DRG_APR_CODE','DRG_APR_DESC','DIAGNOSIS_SUBCAT_DESC','DIAGNOSIS_SUBCAT_CODE','DIAGNOSIS_ICD_CODE','PROCEDURE_SUBCAT_CODE','PROCEDURE_ICD_CODE','STATECODE','City','County_name','ADMIT_DATE','DISCHARGE_DATE','readmit_date','readmit_discharge_date','readmit_days','DISCHARGED_TO'], inplace = True, axis = 1)"
   ]
  },
  {
   "cell_type": "code",
   "execution_count": 83,
   "metadata": {},
   "outputs": [
    {
     "data": {
      "text/plain": [
       "gender                    0.000000\n",
       "race_cd                   0.000000\n",
       "PatientAge                0.000000\n",
       "DRG_APR_SEVERITY          0.131645\n",
       "PROCEDURE_SUBCAT_DESC    31.875230\n",
       "LENGTH_OF_STAY            0.000000\n",
       "ICU_DAYS                  0.000000\n",
       "op_visits6                0.000000\n",
       "Standard_Orders_Used      0.000000\n",
       "Num_Chronic_Cond          0.131645\n",
       "admit_month               0.000000\n",
       "order_set_used            0.000000\n",
       "operationcount            0.000000\n",
       "HOSPITAL                  0.000000\n",
       "dtype: float64"
      ]
     },
     "execution_count": 83,
     "metadata": {},
     "output_type": "execute_result"
    }
   ],
   "source": [
    "#null value check\n",
    "df.isnull().sum()/len(df)*100"
   ]
  },
  {
   "cell_type": "code",
   "execution_count": 84,
   "metadata": {},
   "outputs": [],
   "source": [
    "#drop null values for DRG_APR_SEVERITY\n",
    "df = df[df['DRG_APR_SEVERITY'].notna()]"
   ]
  },
  {
   "cell_type": "code",
   "execution_count": 85,
   "metadata": {},
   "outputs": [],
   "source": [
    "#drop null values for Num_Chronic_Cond\n",
    "df = df[df['Num_Chronic_Cond'].notna()]"
   ]
  },
  {
   "cell_type": "code",
   "execution_count": 86,
   "metadata": {},
   "outputs": [],
   "source": [
    "#impute null values of PROCEDURE_SUBCAT_DESCn with No Procedure\n",
    "df['PROCEDURE_SUBCAT_DESC'].fillna('No Procedure', inplace = True)"
   ]
  },
  {
   "cell_type": "code",
   "execution_count": 87,
   "metadata": {},
   "outputs": [
    {
     "data": {
      "text/plain": [
       "gender                   0.0\n",
       "race_cd                  0.0\n",
       "PatientAge               0.0\n",
       "DRG_APR_SEVERITY         0.0\n",
       "PROCEDURE_SUBCAT_DESC    0.0\n",
       "LENGTH_OF_STAY           0.0\n",
       "ICU_DAYS                 0.0\n",
       "op_visits6               0.0\n",
       "Standard_Orders_Used     0.0\n",
       "Num_Chronic_Cond         0.0\n",
       "admit_month              0.0\n",
       "order_set_used           0.0\n",
       "operationcount           0.0\n",
       "HOSPITAL                 0.0\n",
       "dtype: float64"
      ]
     },
     "execution_count": 87,
     "metadata": {},
     "output_type": "execute_result"
    }
   ],
   "source": [
    "#null value check\n",
    "df.isnull().sum()/len(df)*100"
   ]
  },
  {
   "cell_type": "code",
   "execution_count": 88,
   "metadata": {},
   "outputs": [],
   "source": [
    "#get dummy variables and drop first column\n",
    "gender = pd.get_dummies(df['gender'],drop_first=True)"
   ]
  },
  {
   "cell_type": "code",
   "execution_count": 97,
   "metadata": {},
   "outputs": [
    {
     "data": {
      "text/html": [
       "<div>\n",
       "<style scoped>\n",
       "    .dataframe tbody tr th:only-of-type {\n",
       "        vertical-align: middle;\n",
       "    }\n",
       "\n",
       "    .dataframe tbody tr th {\n",
       "        vertical-align: top;\n",
       "    }\n",
       "\n",
       "    .dataframe thead th {\n",
       "        text-align: right;\n",
       "    }\n",
       "</style>\n",
       "<table border=\"1\" class=\"dataframe\">\n",
       "  <thead>\n",
       "    <tr style=\"text-align: right;\">\n",
       "      <th></th>\n",
       "      <th>M</th>\n",
       "    </tr>\n",
       "  </thead>\n",
       "  <tbody>\n",
       "    <tr>\n",
       "      <td>0</td>\n",
       "      <td>0</td>\n",
       "    </tr>\n",
       "    <tr>\n",
       "      <td>1</td>\n",
       "      <td>1</td>\n",
       "    </tr>\n",
       "    <tr>\n",
       "      <td>2</td>\n",
       "      <td>1</td>\n",
       "    </tr>\n",
       "    <tr>\n",
       "      <td>3</td>\n",
       "      <td>0</td>\n",
       "    </tr>\n",
       "    <tr>\n",
       "      <td>4</td>\n",
       "      <td>0</td>\n",
       "    </tr>\n",
       "  </tbody>\n",
       "</table>\n",
       "</div>"
      ],
      "text/plain": [
       "   M\n",
       "0  0\n",
       "1  1\n",
       "2  1\n",
       "3  0\n",
       "4  0"
      ]
     },
     "execution_count": 97,
     "metadata": {},
     "output_type": "execute_result"
    }
   ],
   "source": [
    "#print first rows of gender\n",
    "gender.head()"
   ]
  },
  {
   "cell_type": "code",
   "execution_count": null,
   "metadata": {},
   "outputs": [],
   "source": [
    "#get dummy variables and drop first column\n",
    "race_cd = pd.get_dummies(df['race_cd'],drop_first=True)"
   ]
  },
  {
   "cell_type": "code",
   "execution_count": 98,
   "metadata": {},
   "outputs": [
    {
     "data": {
      "text/html": [
       "<div>\n",
       "<style scoped>\n",
       "    .dataframe tbody tr th:only-of-type {\n",
       "        vertical-align: middle;\n",
       "    }\n",
       "\n",
       "    .dataframe tbody tr th {\n",
       "        vertical-align: top;\n",
       "    }\n",
       "\n",
       "    .dataframe thead th {\n",
       "        text-align: right;\n",
       "    }\n",
       "</style>\n",
       "<table border=\"1\" class=\"dataframe\">\n",
       "  <thead>\n",
       "    <tr style=\"text-align: right;\">\n",
       "      <th></th>\n",
       "      <th>Others</th>\n",
       "      <th>White</th>\n",
       "    </tr>\n",
       "  </thead>\n",
       "  <tbody>\n",
       "    <tr>\n",
       "      <td>0</td>\n",
       "      <td>0</td>\n",
       "      <td>1</td>\n",
       "    </tr>\n",
       "    <tr>\n",
       "      <td>1</td>\n",
       "      <td>0</td>\n",
       "      <td>1</td>\n",
       "    </tr>\n",
       "    <tr>\n",
       "      <td>2</td>\n",
       "      <td>0</td>\n",
       "      <td>1</td>\n",
       "    </tr>\n",
       "    <tr>\n",
       "      <td>3</td>\n",
       "      <td>0</td>\n",
       "      <td>1</td>\n",
       "    </tr>\n",
       "    <tr>\n",
       "      <td>4</td>\n",
       "      <td>0</td>\n",
       "      <td>1</td>\n",
       "    </tr>\n",
       "  </tbody>\n",
       "</table>\n",
       "</div>"
      ],
      "text/plain": [
       "   Others  White\n",
       "0       0      1\n",
       "1       0      1\n",
       "2       0      1\n",
       "3       0      1\n",
       "4       0      1"
      ]
     },
     "execution_count": 98,
     "metadata": {},
     "output_type": "execute_result"
    }
   ],
   "source": [
    "#print first rows of\n",
    "race_cd.head()"
   ]
  },
  {
   "cell_type": "code",
   "execution_count": 90,
   "metadata": {},
   "outputs": [],
   "source": [
    "#get dummy variables and drop first column\n",
    "PROCEDURE_SUBCAT_DESC = pd.get_dummies(df['PROCEDURE_SUBCAT_DESC'],drop_first=True)"
   ]
  },
  {
   "cell_type": "code",
   "execution_count": 99,
   "metadata": {},
   "outputs": [
    {
     "data": {
      "text/html": [
       "<div>\n",
       "<style scoped>\n",
       "    .dataframe tbody tr th:only-of-type {\n",
       "        vertical-align: middle;\n",
       "    }\n",
       "\n",
       "    .dataframe tbody tr th {\n",
       "        vertical-align: top;\n",
       "    }\n",
       "\n",
       "    .dataframe thead th {\n",
       "        text-align: right;\n",
       "    }\n",
       "</style>\n",
       "<table border=\"1\" class=\"dataframe\">\n",
       "  <thead>\n",
       "    <tr style=\"text-align: right;\">\n",
       "      <th></th>\n",
       "      <th>INCISION, EXCISION, AND</th>\n",
       "      <th>INTERVIEW, EVALUATION, C</th>\n",
       "      <th>NONOPERATIVE INTUBATION</th>\n",
       "      <th>NUCLEAR MEDICINE</th>\n",
       "      <th>No Procedure</th>\n",
       "      <th>OPERATIONS ON ANUS</th>\n",
       "      <th>OPERATIONS ON BONE MARRO</th>\n",
       "      <th>OPERATIONS ON CHEST WALL</th>\n",
       "      <th>OPERATIONS ON LIVER</th>\n",
       "      <th>OPERATIONS ON LYMPHATIC</th>\n",
       "      <th>OPERATIONS ON NOSE</th>\n",
       "      <th>OPERATIONS ON RECTUM REC</th>\n",
       "      <th>OPERATIONS ON SKIN AND S</th>\n",
       "      <th>OPERATIONS ON SPINAL COR</th>\n",
       "      <th>OTHER DIAGNOSTIC RADIOLO</th>\n",
       "      <th>OTHER NONOPERATIVE PROCE</th>\n",
       "      <th>OTHER OPERATIONS ON ABDO</th>\n",
       "      <th>OTHER OPERATIONS ON HEAR</th>\n",
       "      <th>OTHER OPERATIONS ON LARY</th>\n",
       "      <th>OTHER OPERATIONS ON LUNG</th>\n",
       "      <th>OTHER OPERATIONS ON TEET</th>\n",
       "      <th>OTHER OPERATIONS ON VESS</th>\n",
       "      <th>PROCEDURES AND INTERVENT</th>\n",
       "      <th>PROCEDURES RELATED TO TH</th>\n",
       "      <th>REPAIR AND PLASTIC OPERA</th>\n",
       "      <th>REPLACEMENT AND REMOVAL</th>\n",
       "    </tr>\n",
       "  </thead>\n",
       "  <tbody>\n",
       "    <tr>\n",
       "      <td>0</td>\n",
       "      <td>0</td>\n",
       "      <td>0</td>\n",
       "      <td>0</td>\n",
       "      <td>0</td>\n",
       "      <td>0</td>\n",
       "      <td>0</td>\n",
       "      <td>0</td>\n",
       "      <td>0</td>\n",
       "      <td>0</td>\n",
       "      <td>0</td>\n",
       "      <td>0</td>\n",
       "      <td>0</td>\n",
       "      <td>0</td>\n",
       "      <td>0</td>\n",
       "      <td>0</td>\n",
       "      <td>1</td>\n",
       "      <td>0</td>\n",
       "      <td>0</td>\n",
       "      <td>0</td>\n",
       "      <td>0</td>\n",
       "      <td>0</td>\n",
       "      <td>0</td>\n",
       "      <td>0</td>\n",
       "      <td>0</td>\n",
       "      <td>0</td>\n",
       "      <td>0</td>\n",
       "    </tr>\n",
       "    <tr>\n",
       "      <td>1</td>\n",
       "      <td>0</td>\n",
       "      <td>0</td>\n",
       "      <td>0</td>\n",
       "      <td>0</td>\n",
       "      <td>0</td>\n",
       "      <td>0</td>\n",
       "      <td>0</td>\n",
       "      <td>0</td>\n",
       "      <td>0</td>\n",
       "      <td>0</td>\n",
       "      <td>0</td>\n",
       "      <td>0</td>\n",
       "      <td>0</td>\n",
       "      <td>0</td>\n",
       "      <td>1</td>\n",
       "      <td>0</td>\n",
       "      <td>0</td>\n",
       "      <td>0</td>\n",
       "      <td>0</td>\n",
       "      <td>0</td>\n",
       "      <td>0</td>\n",
       "      <td>0</td>\n",
       "      <td>0</td>\n",
       "      <td>0</td>\n",
       "      <td>0</td>\n",
       "      <td>0</td>\n",
       "    </tr>\n",
       "    <tr>\n",
       "      <td>2</td>\n",
       "      <td>0</td>\n",
       "      <td>0</td>\n",
       "      <td>0</td>\n",
       "      <td>0</td>\n",
       "      <td>0</td>\n",
       "      <td>0</td>\n",
       "      <td>0</td>\n",
       "      <td>0</td>\n",
       "      <td>0</td>\n",
       "      <td>0</td>\n",
       "      <td>0</td>\n",
       "      <td>0</td>\n",
       "      <td>0</td>\n",
       "      <td>0</td>\n",
       "      <td>1</td>\n",
       "      <td>0</td>\n",
       "      <td>0</td>\n",
       "      <td>0</td>\n",
       "      <td>0</td>\n",
       "      <td>0</td>\n",
       "      <td>0</td>\n",
       "      <td>0</td>\n",
       "      <td>0</td>\n",
       "      <td>0</td>\n",
       "      <td>0</td>\n",
       "      <td>0</td>\n",
       "    </tr>\n",
       "    <tr>\n",
       "      <td>3</td>\n",
       "      <td>1</td>\n",
       "      <td>0</td>\n",
       "      <td>0</td>\n",
       "      <td>0</td>\n",
       "      <td>0</td>\n",
       "      <td>0</td>\n",
       "      <td>0</td>\n",
       "      <td>0</td>\n",
       "      <td>0</td>\n",
       "      <td>0</td>\n",
       "      <td>0</td>\n",
       "      <td>0</td>\n",
       "      <td>0</td>\n",
       "      <td>0</td>\n",
       "      <td>0</td>\n",
       "      <td>0</td>\n",
       "      <td>0</td>\n",
       "      <td>0</td>\n",
       "      <td>0</td>\n",
       "      <td>0</td>\n",
       "      <td>0</td>\n",
       "      <td>0</td>\n",
       "      <td>0</td>\n",
       "      <td>0</td>\n",
       "      <td>0</td>\n",
       "      <td>0</td>\n",
       "    </tr>\n",
       "    <tr>\n",
       "      <td>4</td>\n",
       "      <td>0</td>\n",
       "      <td>0</td>\n",
       "      <td>0</td>\n",
       "      <td>0</td>\n",
       "      <td>0</td>\n",
       "      <td>0</td>\n",
       "      <td>0</td>\n",
       "      <td>0</td>\n",
       "      <td>0</td>\n",
       "      <td>0</td>\n",
       "      <td>0</td>\n",
       "      <td>0</td>\n",
       "      <td>0</td>\n",
       "      <td>0</td>\n",
       "      <td>1</td>\n",
       "      <td>0</td>\n",
       "      <td>0</td>\n",
       "      <td>0</td>\n",
       "      <td>0</td>\n",
       "      <td>0</td>\n",
       "      <td>0</td>\n",
       "      <td>0</td>\n",
       "      <td>0</td>\n",
       "      <td>0</td>\n",
       "      <td>0</td>\n",
       "      <td>0</td>\n",
       "    </tr>\n",
       "  </tbody>\n",
       "</table>\n",
       "</div>"
      ],
      "text/plain": [
       "   INCISION, EXCISION, AND  INTERVIEW, EVALUATION, C  NONOPERATIVE INTUBATION  NUCLEAR MEDICINE  No Procedure  OPERATIONS ON ANUS  OPERATIONS ON BONE MARRO  OPERATIONS ON CHEST WALL  OPERATIONS ON LIVER  OPERATIONS ON LYMPHATIC  OPERATIONS ON NOSE  OPERATIONS ON RECTUM REC  OPERATIONS ON SKIN AND S  OPERATIONS ON SPINAL COR  OTHER DIAGNOSTIC RADIOLO  OTHER NONOPERATIVE PROCE  OTHER OPERATIONS ON ABDO  OTHER OPERATIONS ON HEAR  OTHER OPERATIONS ON LARY  OTHER OPERATIONS ON LUNG  OTHER OPERATIONS ON TEET  OTHER OPERATIONS ON VESS  PROCEDURES AND INTERVENT  PROCEDURES RELATED TO TH  REPAIR AND PLASTIC OPERA  REPLACEMENT AND REMOVAL\n",
       "0                        0                         0                        0                 0             0                   0                         0                         0                    0                        0                   0                         0                         0                         0                         0                         1                         0                         0                         0                         0                         0                         0                         0                         0                         0                        0\n",
       "1                        0                         0                        0                 0             0                   0                         0                         0                    0                        0                   0                         0                         0                         0                         1                         0                         0                         0                         0                         0                         0                         0                         0                         0                         0                        0\n",
       "2                        0                         0                        0                 0             0                   0                         0                         0                    0                        0                   0                         0                         0                         0                         1                         0                         0                         0                         0                         0                         0                         0                         0                         0                         0                        0\n",
       "3                        1                         0                        0                 0             0                   0                         0                         0                    0                        0                   0                         0                         0                         0                         0                         0                         0                         0                         0                         0                         0                         0                         0                         0                         0                        0\n",
       "4                        0                         0                        0                 0             0                   0                         0                         0                    0                        0                   0                         0                         0                         0                         1                         0                         0                         0                         0                         0                         0                         0                         0                         0                         0                        0"
      ]
     },
     "execution_count": 99,
     "metadata": {},
     "output_type": "execute_result"
    }
   ],
   "source": [
    "#print first rows of PROCEDURE_SUBCAT_DESC\n",
    "PROCEDURE_SUBCAT_DESC.head()"
   ]
  },
  {
   "cell_type": "code",
   "execution_count": 91,
   "metadata": {},
   "outputs": [],
   "source": [
    "#get dummy variables and drop first column\n",
    "Standard_Orders_Used = pd.get_dummies(df['Standard_Orders_Used'],drop_first=True)"
   ]
  },
  {
   "cell_type": "code",
   "execution_count": 100,
   "metadata": {},
   "outputs": [
    {
     "data": {
      "text/html": [
       "<div>\n",
       "<style scoped>\n",
       "    .dataframe tbody tr th:only-of-type {\n",
       "        vertical-align: middle;\n",
       "    }\n",
       "\n",
       "    .dataframe tbody tr th {\n",
       "        vertical-align: top;\n",
       "    }\n",
       "\n",
       "    .dataframe thead th {\n",
       "        text-align: right;\n",
       "    }\n",
       "</style>\n",
       "<table border=\"1\" class=\"dataframe\">\n",
       "  <thead>\n",
       "    <tr style=\"text-align: right;\">\n",
       "      <th></th>\n",
       "      <th>Y</th>\n",
       "    </tr>\n",
       "  </thead>\n",
       "  <tbody>\n",
       "    <tr>\n",
       "      <td>0</td>\n",
       "      <td>1</td>\n",
       "    </tr>\n",
       "    <tr>\n",
       "      <td>1</td>\n",
       "      <td>1</td>\n",
       "    </tr>\n",
       "    <tr>\n",
       "      <td>2</td>\n",
       "      <td>1</td>\n",
       "    </tr>\n",
       "    <tr>\n",
       "      <td>3</td>\n",
       "      <td>0</td>\n",
       "    </tr>\n",
       "    <tr>\n",
       "      <td>4</td>\n",
       "      <td>0</td>\n",
       "    </tr>\n",
       "  </tbody>\n",
       "</table>\n",
       "</div>"
      ],
      "text/plain": [
       "   Y\n",
       "0  1\n",
       "1  1\n",
       "2  1\n",
       "3  0\n",
       "4  0"
      ]
     },
     "execution_count": 100,
     "metadata": {},
     "output_type": "execute_result"
    }
   ],
   "source": [
    "#print first rows of Standard_Orders_Used\n",
    "Standard_Orders_Used.head()"
   ]
  },
  {
   "cell_type": "code",
   "execution_count": 92,
   "metadata": {},
   "outputs": [],
   "source": [
    "#get dummy variables and drop first column\n",
    "admit_month = pd.get_dummies(df['admit_month'],drop_first=True)"
   ]
  },
  {
   "cell_type": "code",
   "execution_count": 101,
   "metadata": {},
   "outputs": [
    {
     "data": {
      "text/html": [
       "<div>\n",
       "<style scoped>\n",
       "    .dataframe tbody tr th:only-of-type {\n",
       "        vertical-align: middle;\n",
       "    }\n",
       "\n",
       "    .dataframe tbody tr th {\n",
       "        vertical-align: top;\n",
       "    }\n",
       "\n",
       "    .dataframe thead th {\n",
       "        text-align: right;\n",
       "    }\n",
       "</style>\n",
       "<table border=\"1\" class=\"dataframe\">\n",
       "  <thead>\n",
       "    <tr style=\"text-align: right;\">\n",
       "      <th></th>\n",
       "      <th>2</th>\n",
       "      <th>3</th>\n",
       "      <th>4</th>\n",
       "      <th>5</th>\n",
       "      <th>6</th>\n",
       "      <th>7</th>\n",
       "      <th>8</th>\n",
       "      <th>9</th>\n",
       "      <th>10</th>\n",
       "      <th>11</th>\n",
       "      <th>12</th>\n",
       "    </tr>\n",
       "  </thead>\n",
       "  <tbody>\n",
       "    <tr>\n",
       "      <td>0</td>\n",
       "      <td>0</td>\n",
       "      <td>0</td>\n",
       "      <td>0</td>\n",
       "      <td>1</td>\n",
       "      <td>0</td>\n",
       "      <td>0</td>\n",
       "      <td>0</td>\n",
       "      <td>0</td>\n",
       "      <td>0</td>\n",
       "      <td>0</td>\n",
       "      <td>0</td>\n",
       "    </tr>\n",
       "    <tr>\n",
       "      <td>1</td>\n",
       "      <td>0</td>\n",
       "      <td>0</td>\n",
       "      <td>0</td>\n",
       "      <td>0</td>\n",
       "      <td>0</td>\n",
       "      <td>0</td>\n",
       "      <td>0</td>\n",
       "      <td>0</td>\n",
       "      <td>0</td>\n",
       "      <td>1</td>\n",
       "      <td>0</td>\n",
       "    </tr>\n",
       "    <tr>\n",
       "      <td>2</td>\n",
       "      <td>0</td>\n",
       "      <td>0</td>\n",
       "      <td>0</td>\n",
       "      <td>0</td>\n",
       "      <td>0</td>\n",
       "      <td>0</td>\n",
       "      <td>0</td>\n",
       "      <td>0</td>\n",
       "      <td>0</td>\n",
       "      <td>0</td>\n",
       "      <td>1</td>\n",
       "    </tr>\n",
       "    <tr>\n",
       "      <td>3</td>\n",
       "      <td>1</td>\n",
       "      <td>0</td>\n",
       "      <td>0</td>\n",
       "      <td>0</td>\n",
       "      <td>0</td>\n",
       "      <td>0</td>\n",
       "      <td>0</td>\n",
       "      <td>0</td>\n",
       "      <td>0</td>\n",
       "      <td>0</td>\n",
       "      <td>0</td>\n",
       "    </tr>\n",
       "    <tr>\n",
       "      <td>4</td>\n",
       "      <td>0</td>\n",
       "      <td>0</td>\n",
       "      <td>0</td>\n",
       "      <td>0</td>\n",
       "      <td>0</td>\n",
       "      <td>0</td>\n",
       "      <td>1</td>\n",
       "      <td>0</td>\n",
       "      <td>0</td>\n",
       "      <td>0</td>\n",
       "      <td>0</td>\n",
       "    </tr>\n",
       "  </tbody>\n",
       "</table>\n",
       "</div>"
      ],
      "text/plain": [
       "   2   3   4   5   6   7   8   9   10  11  12\n",
       "0   0   0   0   1   0   0   0   0   0   0   0\n",
       "1   0   0   0   0   0   0   0   0   0   1   0\n",
       "2   0   0   0   0   0   0   0   0   0   0   1\n",
       "3   1   0   0   0   0   0   0   0   0   0   0\n",
       "4   0   0   0   0   0   0   1   0   0   0   0"
      ]
     },
     "execution_count": 101,
     "metadata": {},
     "output_type": "execute_result"
    }
   ],
   "source": [
    "#print first rows of admit_month\n",
    "admit_month.head()"
   ]
  },
  {
   "cell_type": "code",
   "execution_count": 93,
   "metadata": {},
   "outputs": [],
   "source": [
    "#get dummy variables and drop first column\n",
    "HOSPITAL = pd.get_dummies(df['HOSPITAL'],drop_first=True)"
   ]
  },
  {
   "cell_type": "code",
   "execution_count": 102,
   "metadata": {},
   "outputs": [
    {
     "data": {
      "text/html": [
       "<div>\n",
       "<style scoped>\n",
       "    .dataframe tbody tr th:only-of-type {\n",
       "        vertical-align: middle;\n",
       "    }\n",
       "\n",
       "    .dataframe tbody tr th {\n",
       "        vertical-align: top;\n",
       "    }\n",
       "\n",
       "    .dataframe thead th {\n",
       "        text-align: right;\n",
       "    }\n",
       "</style>\n",
       "<table border=\"1\" class=\"dataframe\">\n",
       "  <thead>\n",
       "    <tr style=\"text-align: right;\">\n",
       "      <th></th>\n",
       "      <th>Hilding-Long Memorial Hospital</th>\n",
       "      <th>Independence Medical Center</th>\n",
       "      <th>Mercy Hospital</th>\n",
       "      <th>Oxbow Regional Hospital</th>\n",
       "      <th>St. Anthony Medical Center</th>\n",
       "      <th>Superior-Parkland Hospital</th>\n",
       "      <th>Valley City Regional Hospital</th>\n",
       "    </tr>\n",
       "  </thead>\n",
       "  <tbody>\n",
       "    <tr>\n",
       "      <td>0</td>\n",
       "      <td>0</td>\n",
       "      <td>1</td>\n",
       "      <td>0</td>\n",
       "      <td>0</td>\n",
       "      <td>0</td>\n",
       "      <td>0</td>\n",
       "      <td>0</td>\n",
       "    </tr>\n",
       "    <tr>\n",
       "      <td>1</td>\n",
       "      <td>0</td>\n",
       "      <td>0</td>\n",
       "      <td>0</td>\n",
       "      <td>0</td>\n",
       "      <td>1</td>\n",
       "      <td>0</td>\n",
       "      <td>0</td>\n",
       "    </tr>\n",
       "    <tr>\n",
       "      <td>2</td>\n",
       "      <td>0</td>\n",
       "      <td>0</td>\n",
       "      <td>0</td>\n",
       "      <td>0</td>\n",
       "      <td>1</td>\n",
       "      <td>0</td>\n",
       "      <td>0</td>\n",
       "    </tr>\n",
       "    <tr>\n",
       "      <td>3</td>\n",
       "      <td>0</td>\n",
       "      <td>0</td>\n",
       "      <td>0</td>\n",
       "      <td>0</td>\n",
       "      <td>1</td>\n",
       "      <td>0</td>\n",
       "      <td>0</td>\n",
       "    </tr>\n",
       "    <tr>\n",
       "      <td>4</td>\n",
       "      <td>1</td>\n",
       "      <td>0</td>\n",
       "      <td>0</td>\n",
       "      <td>0</td>\n",
       "      <td>0</td>\n",
       "      <td>0</td>\n",
       "      <td>0</td>\n",
       "    </tr>\n",
       "  </tbody>\n",
       "</table>\n",
       "</div>"
      ],
      "text/plain": [
       "   Hilding-Long Memorial Hospital  Independence Medical Center  Mercy Hospital  Oxbow Regional Hospital  St. Anthony Medical Center  Superior-Parkland Hospital  Valley City Regional Hospital\n",
       "0                               0                            1               0                        0                           0                           0                              0\n",
       "1                               0                            0               0                        0                           1                           0                              0\n",
       "2                               0                            0               0                        0                           1                           0                              0\n",
       "3                               0                            0               0                        0                           1                           0                              0\n",
       "4                               1                            0               0                        0                           0                           0                              0"
      ]
     },
     "execution_count": 102,
     "metadata": {},
     "output_type": "execute_result"
    }
   ],
   "source": [
    "#print first rows of HOSPITAL\n",
    "HOSPITAL.head()"
   ]
  },
  {
   "cell_type": "code",
   "execution_count": 94,
   "metadata": {},
   "outputs": [],
   "source": [
    "#concatentate dummies with data frame\n",
    "df = pd.concat([df,gender,race_cd,PROCEDURE_SUBCAT_DESC,Standard_Orders_Used,admit_month,HOSPITAL],axis=1)"
   ]
  },
  {
   "cell_type": "code",
   "execution_count": 95,
   "metadata": {},
   "outputs": [],
   "source": [
    "#drop original dummy variables from data frame\n",
    "df.drop(['gender','race_cd','PROCEDURE_SUBCAT_DESC','Standard_Orders_Used','admit_month','HOSPITAL'], inplace = True, axis = 1)"
   ]
  },
  {
   "cell_type": "code",
   "execution_count": 96,
   "metadata": {},
   "outputs": [],
   "source": [
    "#export as csv\n",
    "df.to_csv(r'C:\\Users\\Sierra\\Documents\\Preprocessed_LOS_READM.csv')"
   ]
  }
 ],
 "metadata": {
  "kernelspec": {
   "display_name": "Python 3",
   "language": "python",
   "name": "python3"
  },
  "language_info": {
   "codemirror_mode": {
    "name": "ipython",
    "version": 3
   },
   "file_extension": ".py",
   "mimetype": "text/x-python",
   "name": "python",
   "nbconvert_exporter": "python",
   "pygments_lexer": "ipython3",
   "version": "3.7.4"
  }
 },
 "nbformat": 4,
 "nbformat_minor": 2
}
